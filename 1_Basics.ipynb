{
 "cells": [
  {
   "cell_type": "markdown",
   "metadata": {},
   "source": [
    "# Spark Basics"
   ]
  },
  {
   "cell_type": "code",
   "execution_count": 34,
   "metadata": {},
   "outputs": [],
   "source": [
    "import pyspark\n",
    "from pyspark.sql import SparkSession\n",
    "import pyspark.ml.stat as ml_stat\n",
    "import pyspark.sql.functions as func\n",
    "import pyspark.sql.types as types\n",
    "import pandas as pd\n",
    "import matplotlib.pyplot as plt\n",
    "import seaborn as sns\n",
    "import numpy as np\n",
    "import pandas as pd"
   ]
  },
  {
   "cell_type": "code",
   "execution_count": 35,
   "metadata": {},
   "outputs": [
    {
     "data": {
      "text/html": [
       "\n",
       "            <div>\n",
       "                <p><b>SparkSession - in-memory</b></p>\n",
       "                \n",
       "        <div>\n",
       "            <p><b>SparkContext</b></p>\n",
       "\n",
       "            <p><a href=\"http://192.168.1.39:4040\">Spark UI</a></p>\n",
       "\n",
       "            <dl>\n",
       "              <dt>Version</dt>\n",
       "                <dd><code>v2.4.6</code></dd>\n",
       "              <dt>Master</dt>\n",
       "                <dd><code>local[*]</code></dd>\n",
       "              <dt>AppName</dt>\n",
       "                <dd><code>Spark Test App</code></dd>\n",
       "            </dl>\n",
       "        </div>\n",
       "        \n",
       "            </div>\n",
       "        "
      ],
      "text/plain": [
       "<pyspark.sql.session.SparkSession at 0x1a1eb239d0>"
      ]
     },
     "execution_count": 35,
     "metadata": {},
     "output_type": "execute_result"
    }
   ],
   "source": [
    "spark = SparkSession.builder.appName('Spark Test App').getOrCreate() \n",
    "sc = spark.sparkContext\n",
    "spark"
   ]
  },
  {
   "cell_type": "markdown",
   "metadata": {},
   "source": [
    "**Spark** is a **distributed programming model** where the user specifies **transformations**, which build up a directed-acyclic-graph of instructions, and **actions**, which begin the process of executing that graph of instructions, as a single job, by breaking it down into stages and tasks to execute across the cluster. The way we store data on which to perform transformations and actions are **DataFrames** and Datasets. To create a new DataFrame or Dataset, you call a transformation. To start computation or convert to native language types, you call an action."
   ]
  },
  {
   "cell_type": "markdown",
   "metadata": {},
   "source": [
    "### Most basic structures: RDDs"
   ]
  },
  {
   "cell_type": "markdown",
   "metadata": {},
   "source": [
    "RDDs are just the internal representation of spark data structures and rarely used directly. Normally one should work on dataframes instead (see below)."
   ]
  },
  {
   "cell_type": "code",
   "execution_count": 36,
   "metadata": {},
   "outputs": [],
   "source": [
    "rdd = sc.parallelize(range(100))"
   ]
  },
  {
   "cell_type": "code",
   "execution_count": 37,
   "metadata": {},
   "outputs": [
    {
     "data": {
      "text/plain": [
       "[0, 1, 2, 3, 4]"
      ]
     },
     "execution_count": 37,
     "metadata": {},
     "output_type": "execute_result"
    }
   ],
   "source": [
    "rdd.take(5)"
   ]
  },
  {
   "cell_type": "code",
   "execution_count": 38,
   "metadata": {},
   "outputs": [
    {
     "data": {
      "text/plain": [
       "100"
      ]
     },
     "execution_count": 38,
     "metadata": {},
     "output_type": "execute_result"
    }
   ],
   "source": [
    "rdd.count()"
   ]
  },
  {
   "cell_type": "code",
   "execution_count": 39,
   "metadata": {},
   "outputs": [
    {
     "data": {
      "text/plain": [
       "4950"
      ]
     },
     "execution_count": 39,
     "metadata": {},
     "output_type": "execute_result"
    }
   ],
   "source": [
    "rdd.sum()"
   ]
  },
  {
   "cell_type": "code",
   "execution_count": 40,
   "metadata": {},
   "outputs": [
    {
     "data": {
      "text/plain": [
       "[0, 1, 4, 9, 16]"
      ]
     },
     "execution_count": 40,
     "metadata": {},
     "output_type": "execute_result"
    }
   ],
   "source": [
    "rdd.map(lambda x: x*x).take(5)"
   ]
  },
  {
   "cell_type": "code",
   "execution_count": 41,
   "metadata": {},
   "outputs": [
    {
     "data": {
      "text/plain": [
       "4950"
      ]
     },
     "execution_count": 41,
     "metadata": {},
     "output_type": "execute_result"
    }
   ],
   "source": [
    "rdd.reduce(lambda a,b: a+b)"
   ]
  },
  {
   "cell_type": "code",
   "execution_count": 42,
   "metadata": {},
   "outputs": [
    {
     "data": {
      "text/plain": [
       "1500"
      ]
     },
     "execution_count": 42,
     "metadata": {},
     "output_type": "execute_result"
    }
   ],
   "source": [
    "rdd.filter(lambda x: 50<x<75).sum()"
   ]
  },
  {
   "cell_type": "markdown",
   "metadata": {},
   "source": [
    "### Spark DataFrames"
   ]
  },
  {
   "cell_type": "markdown",
   "metadata": {},
   "source": [
    "Definitionally, a **DataFrame** consists of a series of **records** (like rows in a table), that are of **type Row**, and a number of columns (like columns in a spreadsheet) that represent an computation expression that can performed on each individual record in the dataset. The **schema** defines the name as well as the type of data in each column. The partitioning of the DataFrame defines the layout of the DataFrame or Dataset’s physical distribution across the cluster. The partitioning scheme defines how that is broken up, this can be set to be based on values in a certain column or non-deterministically."
   ]
  },
  {
   "cell_type": "code",
   "execution_count": 43,
   "metadata": {},
   "outputs": [
    {
     "name": "stdout",
     "output_type": "stream",
     "text": [
      "+---+-----+-------+------------+\n",
      "| Id| Name|Sallary|DepartmentId|\n",
      "+---+-----+-------+------------+\n",
      "|  1|  Joe|  70000|           1|\n",
      "|  2|Henry|  80000|           2|\n",
      "|  3|  Sam|  60000|           2|\n",
      "+---+-----+-------+------------+\n",
      "\n"
     ]
    }
   ],
   "source": [
    "# Create df from rows (only column names are here supplied as schema, types are inferred)\n",
    "emp = spark.createDataFrame([\n",
    "    ('1', 'Joe', '70000', '1'),\n",
    "    ('2', 'Henry', '80000', '2'),\n",
    "    ('3', 'Sam',   '60000', '2')],\n",
    "    schema=['Id', 'Name', 'Sallary','DepartmentId']\n",
    ")\n",
    "emp.show()"
   ]
  },
  {
   "cell_type": "code",
   "execution_count": 44,
   "metadata": {},
   "outputs": [
    {
     "name": "stdout",
     "output_type": "stream",
     "text": [
      "+----+----+\n",
      "|val1|val2|\n",
      "+----+----+\n",
      "|   1|   7|\n",
      "|   2|   6|\n",
      "|   3|   5|\n",
      "|   4|   4|\n",
      "|   5|   5|\n",
      "|   6|   6|\n",
      "|   7|   7|\n",
      "|   8|   8|\n",
      "|   9|   9|\n",
      "|  10|  10|\n",
      "+----+----+\n",
      "\n"
     ]
    }
   ],
   "source": [
    "# Create df from columns\n",
    "x=[1,2,3,4,5,6,7,8,9,10]\n",
    "y=[7,6,5,4,5,6,7,8,9,10]\n",
    "df_test = spark.createDataFrame(zip(x,y), ['val1', 'val2'])\n",
    "df_test.show()"
   ]
  },
  {
   "cell_type": "code",
   "execution_count": 81,
   "metadata": {},
   "outputs": [
    {
     "name": "stdout",
     "output_type": "stream",
     "text": [
      "+---+\n",
      "| id|\n",
      "+---+\n",
      "|  1|\n",
      "|  2|\n",
      "|  3|\n",
      "|  4|\n",
      "|  5|\n",
      "|  6|\n",
      "|  7|\n",
      "|  8|\n",
      "|  9|\n",
      "| 10|\n",
      "+---+\n",
      "\n"
     ]
    }
   ],
   "source": [
    "# Create df with one id column and range of integers\n",
    "df_id=spark.range(1,11)\n",
    "df_id.show()"
   ]
  },
  {
   "cell_type": "code",
   "execution_count": 46,
   "metadata": {},
   "outputs": [
    {
     "data": {
      "text/plain": [
       "4"
      ]
     },
     "execution_count": 46,
     "metadata": {},
     "output_type": "execute_result"
    }
   ],
   "source": [
    "df_id.rdd.getNumPartitions()"
   ]
  },
  {
   "cell_type": "code",
   "execution_count": 47,
   "metadata": {},
   "outputs": [
    {
     "name": "stdout",
     "output_type": "stream",
     "text": [
      "+---+---------+------------+----------+------+------------+----+------+--------------------+\n",
      "|mpg|cylinders|displacement|horsepower|weight|acceleration|year|origin|                name|\n",
      "+---+---------+------------+----------+------+------------+----+------+--------------------+\n",
      "| 18|        8|         307|       130|  3504|          12|  70|     1|chevrolet chevell...|\n",
      "| 15|        8|         350|       165|  3693|        11.5|  70|     1|   buick skylark 320|\n",
      "| 18|        8|         318|       150|  3436|          11|  70|     1|  plymouth satellite|\n",
      "| 16|        8|         304|       150|  3433|          12|  70|     1|       amc rebel sst|\n",
      "| 17|        8|         302|       140|  3449|        10.5|  70|     1|         ford torino|\n",
      "+---+---------+------------+----------+------+------------+----+------+--------------------+\n",
      "only showing top 5 rows\n",
      "\n"
     ]
    }
   ],
   "source": [
    "# Create DF from a csv file (without schema)\n",
    "df_auto = spark.read.csv('Auto.csv', header=True)\n",
    "df_auto.show(5)"
   ]
  },
  {
   "cell_type": "code",
   "execution_count": 87,
   "metadata": {},
   "outputs": [
    {
     "name": "stdout",
     "output_type": "stream",
     "text": [
      "+---+---------+------------+----------+------+------------+----+------+--------------------+\n",
      "|mpg|cylinders|displacement|horsepower|weight|acceleration|year|origin|                name|\n",
      "+---+---------+------------+----------+------+------------+----+------+--------------------+\n",
      "| 18|        8|         307|       130|  3504|          12|  70|     1|chevrolet chevell...|\n",
      "| 15|        8|         350|       165|  3693|        11.5|  70|     1|   buick skylark 320|\n",
      "| 18|        8|         318|       150|  3436|          11|  70|     1|  plymouth satellite|\n",
      "| 16|        8|         304|       150|  3433|          12|  70|     1|       amc rebel sst|\n",
      "| 17|        8|         302|       140|  3449|        10.5|  70|     1|         ford torino|\n",
      "+---+---------+------------+----------+------+------------+----+------+--------------------+\n",
      "only showing top 5 rows\n",
      "\n"
     ]
    }
   ],
   "source": [
    "# Alternative way to provide options\n",
    "df_auto = (spark\n",
    "           .read\n",
    "           .option(\"header\", True)\n",
    "           .csv('Auto.csv')\n",
    ")\n",
    "df_auto.show(5)"
   ]
  },
  {
   "cell_type": "code",
   "execution_count": 48,
   "metadata": {},
   "outputs": [
    {
     "name": "stdout",
     "output_type": "stream",
     "text": [
      "root\n",
      " |-- mpg: string (nullable = true)\n",
      " |-- cylinders: string (nullable = true)\n",
      " |-- displacement: string (nullable = true)\n",
      " |-- horsepower: string (nullable = true)\n",
      " |-- weight: string (nullable = true)\n",
      " |-- acceleration: string (nullable = true)\n",
      " |-- year: string (nullable = true)\n",
      " |-- origin: string (nullable = true)\n",
      " |-- name: string (nullable = true)\n",
      "\n"
     ]
    }
   ],
   "source": [
    "# No schema -> all variables strings\n",
    "df_auto.printSchema()"
   ]
  },
  {
   "cell_type": "markdown",
   "metadata": {},
   "source": [
    "### DataFrame Schemas"
   ]
  },
  {
   "cell_type": "code",
   "execution_count": 49,
   "metadata": {},
   "outputs": [
    {
     "name": "stdout",
     "output_type": "stream",
     "text": [
      "+----+---------+------------+----------+------+------------+----+------+--------------------+\n",
      "| mpg|cylinders|displacement|horsepower|weight|acceleration|year|origin|                name|\n",
      "+----+---------+------------+----------+------+------------+----+------+--------------------+\n",
      "|18.0|        8|       307.0|       130|  3504|        12.0|  70|     1|chevrolet chevell...|\n",
      "|15.0|        8|       350.0|       165|  3693|        11.5|  70|     1|   buick skylark 320|\n",
      "|18.0|        8|       318.0|       150|  3436|        11.0|  70|     1|  plymouth satellite|\n",
      "|16.0|        8|       304.0|       150|  3433|        12.0|  70|     1|       amc rebel sst|\n",
      "|17.0|        8|       302.0|       140|  3449|        10.5|  70|     1|         ford torino|\n",
      "+----+---------+------------+----------+------+------------+----+------+--------------------+\n",
      "only showing top 5 rows\n",
      "\n"
     ]
    }
   ],
   "source": [
    "# Create Data Frame from a csv file with inferred schema\n",
    "df_auto = spark.read.csv('Auto.csv', header=True, inferSchema=True)\n",
    "df_auto.show(5)"
   ]
  },
  {
   "cell_type": "code",
   "execution_count": 50,
   "metadata": {},
   "outputs": [
    {
     "name": "stdout",
     "output_type": "stream",
     "text": [
      "root\n",
      " |-- mpg: double (nullable = true)\n",
      " |-- cylinders: integer (nullable = true)\n",
      " |-- displacement: double (nullable = true)\n",
      " |-- horsepower: string (nullable = true)\n",
      " |-- weight: integer (nullable = true)\n",
      " |-- acceleration: double (nullable = true)\n",
      " |-- year: integer (nullable = true)\n",
      " |-- origin: integer (nullable = true)\n",
      " |-- name: string (nullable = true)\n",
      "\n"
     ]
    }
   ],
   "source": [
    "# Now variable types are inferred\n",
    "df_auto.printSchema()"
   ]
  },
  {
   "cell_type": "code",
   "execution_count": 51,
   "metadata": {},
   "outputs": [
    {
     "data": {
      "text/plain": [
       "StructType(List(StructField(mpg,DoubleType,true),StructField(cylinders,IntegerType,true),StructField(displacement,DoubleType,true),StructField(horsepower,StringType,true),StructField(weight,IntegerType,true),StructField(acceleration,DoubleType,true),StructField(year,IntegerType,true),StructField(origin,IntegerType,true),StructField(name,StringType,true)))"
      ]
     },
     "execution_count": 51,
     "metadata": {},
     "output_type": "execute_result"
    }
   ],
   "source": [
    "# How schema is modelled\n",
    "df_auto.schema"
   ]
  },
  {
   "cell_type": "markdown",
   "metadata": {},
   "source": [
    "A schema is a **StructType** made up of a number of fields, **StructFields**, that have a name, type, and a boolean flag which specifies whether or not that column can contain missing or null values."
   ]
  },
  {
   "cell_type": "code",
   "execution_count": 52,
   "metadata": {},
   "outputs": [],
   "source": [
    "# Define a manual schema\n",
    "my_schema = types.StructType([\n",
    "    types.StructField('mpg', types.FloatType(), True),\n",
    "    types.StructField('cylinders', types.ByteType(), True),\n",
    "    types.StructField('displacement', types.FloatType(), True),\n",
    "    types.StructField('horsepower', types.FloatType(), True),\n",
    "    types.StructField('weight', types.FloatType(), True),\n",
    "    types.StructField('acceleration', types.FloatType(), True),\n",
    "    types.StructField('year', types.ByteType(), True),\n",
    "    types.StructField('origin', types.ByteType(), True),\n",
    "    types.StructField('name', types.StringType(), True),\n",
    "])"
   ]
  },
  {
   "cell_type": "code",
   "execution_count": 53,
   "metadata": {},
   "outputs": [
    {
     "name": "stdout",
     "output_type": "stream",
     "text": [
      "+----+---------+------------+----------+------+------------+----+------+--------------------+\n",
      "| mpg|cylinders|displacement|horsepower|weight|acceleration|year|origin|                name|\n",
      "+----+---------+------------+----------+------+------------+----+------+--------------------+\n",
      "|18.0|        8|       307.0|     130.0|3504.0|        12.0|  70|     1|chevrolet chevell...|\n",
      "|15.0|        8|       350.0|     165.0|3693.0|        11.5|  70|     1|   buick skylark 320|\n",
      "|18.0|        8|       318.0|     150.0|3436.0|        11.0|  70|     1|  plymouth satellite|\n",
      "|16.0|        8|       304.0|     150.0|3433.0|        12.0|  70|     1|       amc rebel sst|\n",
      "|17.0|        8|       302.0|     140.0|3449.0|        10.5|  70|     1|         ford torino|\n",
      "+----+---------+------------+----------+------+------------+----+------+--------------------+\n",
      "only showing top 5 rows\n",
      "\n"
     ]
    }
   ],
   "source": [
    "# Read data with manual schema\n",
    "df_auto = spark.read.csv('Auto.csv', header=True, schema=my_schema)\n",
    "df_auto.show(5)"
   ]
  },
  {
   "cell_type": "code",
   "execution_count": 54,
   "metadata": {},
   "outputs": [
    {
     "name": "stdout",
     "output_type": "stream",
     "text": [
      "root\n",
      " |-- mpg: float (nullable = true)\n",
      " |-- cylinders: byte (nullable = true)\n",
      " |-- displacement: float (nullable = true)\n",
      " |-- horsepower: float (nullable = true)\n",
      " |-- weight: float (nullable = true)\n",
      " |-- acceleration: float (nullable = true)\n",
      " |-- year: byte (nullable = true)\n",
      " |-- origin: byte (nullable = true)\n",
      " |-- name: string (nullable = true)\n",
      "\n"
     ]
    }
   ],
   "source": [
    "df_auto.printSchema()"
   ]
  },
  {
   "cell_type": "markdown",
   "metadata": {},
   "source": [
    "### Different ways to refer to a column"
   ]
  },
  {
   "cell_type": "code",
   "execution_count": 82,
   "metadata": {},
   "outputs": [
    {
     "data": {
      "text/plain": [
       "Column<b'mpg'>"
      ]
     },
     "execution_count": 82,
     "metadata": {},
     "output_type": "execute_result"
    }
   ],
   "source": [
    "df_auto[\"mpg\"]"
   ]
  },
  {
   "cell_type": "code",
   "execution_count": 84,
   "metadata": {},
   "outputs": [
    {
     "data": {
      "text/plain": [
       "Column<b'mpg'>"
      ]
     },
     "execution_count": 84,
     "metadata": {},
     "output_type": "execute_result"
    }
   ],
   "source": [
    "df_auto.mpg"
   ]
  },
  {
   "cell_type": "code",
   "execution_count": 85,
   "metadata": {},
   "outputs": [
    {
     "data": {
      "text/plain": [
       "Column<b'mpg'>"
      ]
     },
     "execution_count": 85,
     "metadata": {},
     "output_type": "execute_result"
    }
   ],
   "source": [
    "func.col(\"mpg\")"
   ]
  },
  {
   "cell_type": "code",
   "execution_count": 86,
   "metadata": {},
   "outputs": [
    {
     "data": {
      "text/plain": [
       "Column<b'mpg'>"
      ]
     },
     "execution_count": 86,
     "metadata": {},
     "output_type": "execute_result"
    }
   ],
   "source": [
    "func.expr(\"mpg\")"
   ]
  },
  {
   "cell_type": "markdown",
   "metadata": {},
   "source": [
    "### Convert between Spark and Pandas Dataframes"
   ]
  },
  {
   "cell_type": "code",
   "execution_count": 55,
   "metadata": {},
   "outputs": [
    {
     "data": {
      "text/html": [
       "<div>\n",
       "<style scoped>\n",
       "    .dataframe tbody tr th:only-of-type {\n",
       "        vertical-align: middle;\n",
       "    }\n",
       "\n",
       "    .dataframe tbody tr th {\n",
       "        vertical-align: top;\n",
       "    }\n",
       "\n",
       "    .dataframe thead th {\n",
       "        text-align: right;\n",
       "    }\n",
       "</style>\n",
       "<table border=\"1\" class=\"dataframe\">\n",
       "  <thead>\n",
       "    <tr style=\"text-align: right;\">\n",
       "      <th></th>\n",
       "      <th>Unnamed: 0</th>\n",
       "      <th>TV</th>\n",
       "      <th>Radio</th>\n",
       "      <th>Newspaper</th>\n",
       "      <th>Sales</th>\n",
       "    </tr>\n",
       "  </thead>\n",
       "  <tbody>\n",
       "    <tr>\n",
       "      <th>0</th>\n",
       "      <td>1</td>\n",
       "      <td>230.1</td>\n",
       "      <td>37.8</td>\n",
       "      <td>69.2</td>\n",
       "      <td>22.1</td>\n",
       "    </tr>\n",
       "    <tr>\n",
       "      <th>1</th>\n",
       "      <td>2</td>\n",
       "      <td>44.5</td>\n",
       "      <td>39.3</td>\n",
       "      <td>45.1</td>\n",
       "      <td>10.4</td>\n",
       "    </tr>\n",
       "    <tr>\n",
       "      <th>2</th>\n",
       "      <td>3</td>\n",
       "      <td>17.2</td>\n",
       "      <td>45.9</td>\n",
       "      <td>69.3</td>\n",
       "      <td>9.3</td>\n",
       "    </tr>\n",
       "    <tr>\n",
       "      <th>3</th>\n",
       "      <td>4</td>\n",
       "      <td>151.5</td>\n",
       "      <td>41.3</td>\n",
       "      <td>58.5</td>\n",
       "      <td>18.5</td>\n",
       "    </tr>\n",
       "    <tr>\n",
       "      <th>4</th>\n",
       "      <td>5</td>\n",
       "      <td>180.8</td>\n",
       "      <td>10.8</td>\n",
       "      <td>58.4</td>\n",
       "      <td>12.9</td>\n",
       "    </tr>\n",
       "  </tbody>\n",
       "</table>\n",
       "</div>"
      ],
      "text/plain": [
       "   Unnamed: 0     TV  Radio  Newspaper  Sales\n",
       "0           1  230.1   37.8       69.2   22.1\n",
       "1           2   44.5   39.3       45.1   10.4\n",
       "2           3   17.2   45.9       69.3    9.3\n",
       "3           4  151.5   41.3       58.5   18.5\n",
       "4           5  180.8   10.8       58.4   12.9"
      ]
     },
     "execution_count": 55,
     "metadata": {},
     "output_type": "execute_result"
    }
   ],
   "source": [
    "df_ad=pd.read_csv('Advertising.csv')\n",
    "df_ad.head()"
   ]
  },
  {
   "cell_type": "code",
   "execution_count": 56,
   "metadata": {},
   "outputs": [
    {
     "name": "stdout",
     "output_type": "stream",
     "text": [
      "+----------+-----+-----+---------+-----+\n",
      "|Unnamed: 0|   TV|Radio|Newspaper|Sales|\n",
      "+----------+-----+-----+---------+-----+\n",
      "|         1|230.1| 37.8|     69.2| 22.1|\n",
      "|         2| 44.5| 39.3|     45.1| 10.4|\n",
      "|         3| 17.2| 45.9|     69.3|  9.3|\n",
      "|         4|151.5| 41.3|     58.5| 18.5|\n",
      "|         5|180.8| 10.8|     58.4| 12.9|\n",
      "+----------+-----+-----+---------+-----+\n",
      "only showing top 5 rows\n",
      "\n"
     ]
    }
   ],
   "source": [
    "dfs = spark.createDataFrame(df_ad)\n",
    "dfs.show(5)"
   ]
  },
  {
   "cell_type": "code",
   "execution_count": 57,
   "metadata": {},
   "outputs": [
    {
     "data": {
      "text/html": [
       "<div>\n",
       "<style scoped>\n",
       "    .dataframe tbody tr th:only-of-type {\n",
       "        vertical-align: middle;\n",
       "    }\n",
       "\n",
       "    .dataframe tbody tr th {\n",
       "        vertical-align: top;\n",
       "    }\n",
       "\n",
       "    .dataframe thead th {\n",
       "        text-align: right;\n",
       "    }\n",
       "</style>\n",
       "<table border=\"1\" class=\"dataframe\">\n",
       "  <thead>\n",
       "    <tr style=\"text-align: right;\">\n",
       "      <th></th>\n",
       "      <th>Unnamed: 0</th>\n",
       "      <th>TV</th>\n",
       "      <th>Radio</th>\n",
       "      <th>Newspaper</th>\n",
       "      <th>Sales</th>\n",
       "    </tr>\n",
       "  </thead>\n",
       "  <tbody>\n",
       "    <tr>\n",
       "      <th>0</th>\n",
       "      <td>1</td>\n",
       "      <td>230.1</td>\n",
       "      <td>37.8</td>\n",
       "      <td>69.2</td>\n",
       "      <td>22.1</td>\n",
       "    </tr>\n",
       "    <tr>\n",
       "      <th>1</th>\n",
       "      <td>2</td>\n",
       "      <td>44.5</td>\n",
       "      <td>39.3</td>\n",
       "      <td>45.1</td>\n",
       "      <td>10.4</td>\n",
       "    </tr>\n",
       "    <tr>\n",
       "      <th>2</th>\n",
       "      <td>3</td>\n",
       "      <td>17.2</td>\n",
       "      <td>45.9</td>\n",
       "      <td>69.3</td>\n",
       "      <td>9.3</td>\n",
       "    </tr>\n",
       "    <tr>\n",
       "      <th>3</th>\n",
       "      <td>4</td>\n",
       "      <td>151.5</td>\n",
       "      <td>41.3</td>\n",
       "      <td>58.5</td>\n",
       "      <td>18.5</td>\n",
       "    </tr>\n",
       "    <tr>\n",
       "      <th>4</th>\n",
       "      <td>5</td>\n",
       "      <td>180.8</td>\n",
       "      <td>10.8</td>\n",
       "      <td>58.4</td>\n",
       "      <td>12.9</td>\n",
       "    </tr>\n",
       "  </tbody>\n",
       "</table>\n",
       "</div>"
      ],
      "text/plain": [
       "   Unnamed: 0     TV  Radio  Newspaper  Sales\n",
       "0           1  230.1   37.8       69.2   22.1\n",
       "1           2   44.5   39.3       45.1   10.4\n",
       "2           3   17.2   45.9       69.3    9.3\n",
       "3           4  151.5   41.3       58.5   18.5\n",
       "4           5  180.8   10.8       58.4   12.9"
      ]
     },
     "execution_count": 57,
     "metadata": {},
     "output_type": "execute_result"
    }
   ],
   "source": [
    "dfs.toPandas().head()"
   ]
  },
  {
   "cell_type": "markdown",
   "metadata": {},
   "source": [
    "### SQL Queries on Spark Dataframes"
   ]
  },
  {
   "cell_type": "code",
   "execution_count": 58,
   "metadata": {},
   "outputs": [
    {
     "name": "stdout",
     "output_type": "stream",
     "text": [
      "+----+---------+------------+----------+------+------------+----+------+--------------------+\n",
      "| mpg|cylinders|displacement|horsepower|weight|acceleration|year|origin|                name|\n",
      "+----+---------+------------+----------+------+------------+----+------+--------------------+\n",
      "|43.1|        4|        90.0|      48.0|1985.0|        21.5|  78|     2|volkswagen rabbit...|\n",
      "|41.5|        4|        98.0|      76.0|2144.0|        14.7|  80|     2|           vw rabbit|\n",
      "|46.6|        4|        86.0|      65.0|2110.0|        17.9|  80|     3|           mazda glc|\n",
      "|40.8|        4|        85.0|      65.0|2110.0|        19.2|  80|     3|          datsun 210|\n",
      "|44.3|        4|        90.0|      48.0|2085.0|        21.7|  80|     2|vw rabbit c (diesel)|\n",
      "|43.4|        4|        90.0|      48.0|2335.0|        23.7|  80|     2|  vw dasher (diesel)|\n",
      "|44.6|        4|        91.0|      67.0|1850.0|        13.8|  80|     3| honda civic 1500 gl|\n",
      "|44.0|        4|        97.0|      52.0|2130.0|        24.6|  82|     2|           vw pickup|\n",
      "+----+---------+------------+----------+------+------------+----+------+--------------------+\n",
      "\n"
     ]
    }
   ],
   "source": [
    "# Create temporary view from dataframe\n",
    "df_auto.createOrReplaceTempView('view_auto')\n",
    "# SQL Query on the view\n",
    "df_result=spark.sql('select * from view_auto where mpg>40')\n",
    "df_result.show()"
   ]
  },
  {
   "cell_type": "code",
   "execution_count": 59,
   "metadata": {},
   "outputs": [
    {
     "name": "stdout",
     "output_type": "stream",
     "text": [
      "== Physical Plan ==\n",
      "*(1) Project [mpg#491, cylinders#492, displacement#493, horsepower#494, weight#495, acceleration#496, year#497, origin#498, name#499]\n",
      "+- *(1) Filter (isnotnull(mpg#491) && (mpg#491 > 40.0))\n",
      "   +- *(1) FileScan csv [mpg#491,cylinders#492,displacement#493,horsepower#494,weight#495,acceleration#496,year#497,origin#498,name#499] Batched: false, Format: CSV, Location: InMemoryFileIndex[file:/Users/andreas/Desktop/Materialien/Spark/Auto.csv], PartitionFilters: [], PushedFilters: [IsNotNull(mpg), GreaterThan(mpg,40.0)], ReadSchema: struct<mpg:float,cylinders:tinyint,displacement:float,horsepower:float,weight:float,acceleration:...\n"
     ]
    }
   ],
   "source": [
    "# Get execution plan of the query\n",
    "df_result.explain()"
   ]
  },
  {
   "cell_type": "code",
   "execution_count": 60,
   "metadata": {},
   "outputs": [
    {
     "data": {
      "text/plain": [
       "[Row(mpg=43.099998474121094, cylinders=4, displacement=90.0, horsepower=48.0, weight=1985.0, acceleration=21.5, year=78, origin=2, name='volkswagen rabbit custom diesel'),\n",
       " Row(mpg=41.5, cylinders=4, displacement=98.0, horsepower=76.0, weight=2144.0, acceleration=14.699999809265137, year=80, origin=2, name='vw rabbit'),\n",
       " Row(mpg=46.599998474121094, cylinders=4, displacement=86.0, horsepower=65.0, weight=2110.0, acceleration=17.899999618530273, year=80, origin=3, name='mazda glc'),\n",
       " Row(mpg=40.79999923706055, cylinders=4, displacement=85.0, horsepower=65.0, weight=2110.0, acceleration=19.200000762939453, year=80, origin=3, name='datsun 210'),\n",
       " Row(mpg=44.29999923706055, cylinders=4, displacement=90.0, horsepower=48.0, weight=2085.0, acceleration=21.700000762939453, year=80, origin=2, name='vw rabbit c (diesel)'),\n",
       " Row(mpg=43.400001525878906, cylinders=4, displacement=90.0, horsepower=48.0, weight=2335.0, acceleration=23.700000762939453, year=80, origin=2, name='vw dasher (diesel)'),\n",
       " Row(mpg=44.599998474121094, cylinders=4, displacement=91.0, horsepower=67.0, weight=1850.0, acceleration=13.800000190734863, year=80, origin=3, name='honda civic 1500 gl'),\n",
       " Row(mpg=44.0, cylinders=4, displacement=97.0, horsepower=52.0, weight=2130.0, acceleration=24.600000381469727, year=82, origin=2, name='vw pickup')]"
      ]
     },
     "execution_count": 60,
     "metadata": {},
     "output_type": "execute_result"
    }
   ],
   "source": [
    "df_result.collect()"
   ]
  },
  {
   "cell_type": "code",
   "execution_count": 61,
   "metadata": {},
   "outputs": [
    {
     "data": {
      "text/plain": [
       "['volkswagen rabbit custom diesel',\n",
       " 'vw rabbit',\n",
       " 'mazda glc',\n",
       " 'datsun 210',\n",
       " 'vw rabbit c (diesel)',\n",
       " 'vw dasher (diesel)',\n",
       " 'honda civic 1500 gl',\n",
       " 'vw pickup']"
      ]
     },
     "execution_count": 61,
     "metadata": {},
     "output_type": "execute_result"
    }
   ],
   "source": [
    "# Get all car names from result\n",
    "[row.name for row in df_result.collect()]"
   ]
  },
  {
   "cell_type": "code",
   "execution_count": 62,
   "metadata": {},
   "outputs": [
    {
     "data": {
      "text/plain": [
       "['volkswagen rabbit custom diesel',\n",
       " 'vw rabbit',\n",
       " 'mazda glc',\n",
       " 'datsun 210',\n",
       " 'vw rabbit c (diesel)',\n",
       " 'vw dasher (diesel)',\n",
       " 'honda civic 1500 gl',\n",
       " 'vw pickup']"
      ]
     },
     "execution_count": 62,
     "metadata": {},
     "output_type": "execute_result"
    }
   ],
   "source": [
    "# Get all car names from result (using rdds)\n",
    "df_result.rdd.map(lambda row: row.name).collect()"
   ]
  },
  {
   "cell_type": "markdown",
   "metadata": {},
   "source": [
    "### Basic Statistics"
   ]
  },
  {
   "cell_type": "code",
   "execution_count": 63,
   "metadata": {},
   "outputs": [
    {
     "name": "stdout",
     "output_type": "stream",
     "text": [
      "+---+---+---+--------------------+-----------+\n",
      "|  x|  y|  z|              source|      class|\n",
      "+---+---+---+--------------------+-----------+\n",
      "| 22| 49| 35|Accelerometer-201...|Brush_teeth|\n",
      "| 22| 49| 35|Accelerometer-201...|Brush_teeth|\n",
      "| 22| 52| 35|Accelerometer-201...|Brush_teeth|\n",
      "| 22| 52| 35|Accelerometer-201...|Brush_teeth|\n",
      "| 21| 52| 34|Accelerometer-201...|Brush_teeth|\n",
      "| 22| 51| 34|Accelerometer-201...|Brush_teeth|\n",
      "| 20| 50| 35|Accelerometer-201...|Brush_teeth|\n",
      "| 22| 52| 34|Accelerometer-201...|Brush_teeth|\n",
      "| 22| 50| 34|Accelerometer-201...|Brush_teeth|\n",
      "| 22| 51| 35|Accelerometer-201...|Brush_teeth|\n",
      "| 21| 51| 33|Accelerometer-201...|Brush_teeth|\n",
      "| 20| 50| 34|Accelerometer-201...|Brush_teeth|\n",
      "| 21| 49| 33|Accelerometer-201...|Brush_teeth|\n",
      "| 21| 49| 33|Accelerometer-201...|Brush_teeth|\n",
      "| 20| 51| 35|Accelerometer-201...|Brush_teeth|\n",
      "| 18| 49| 34|Accelerometer-201...|Brush_teeth|\n",
      "| 19| 48| 34|Accelerometer-201...|Brush_teeth|\n",
      "| 16| 53| 34|Accelerometer-201...|Brush_teeth|\n",
      "| 18| 52| 35|Accelerometer-201...|Brush_teeth|\n",
      "| 18| 51| 32|Accelerometer-201...|Brush_teeth|\n",
      "+---+---+---+--------------------+-----------+\n",
      "only showing top 20 rows\n",
      "\n"
     ]
    }
   ],
   "source": [
    "# read some test data\n",
    "df = spark.read.parquet('hmp.parquet')\n",
    "df.show()"
   ]
  },
  {
   "cell_type": "code",
   "execution_count": 64,
   "metadata": {},
   "outputs": [
    {
     "data": {
      "text/plain": [
       "446529"
      ]
     },
     "execution_count": 64,
     "metadata": {},
     "output_type": "execute_result"
    }
   ],
   "source": [
    "df.count()"
   ]
  },
  {
   "cell_type": "code",
   "execution_count": 65,
   "metadata": {},
   "outputs": [],
   "source": [
    "# register a corresponding query table\n",
    "df.createOrReplaceTempView('df')"
   ]
  },
  {
   "cell_type": "code",
   "execution_count": 66,
   "metadata": {},
   "outputs": [
    {
     "name": "stdout",
     "output_type": "stream",
     "text": [
      "+--------------+-----+\n",
      "|         class|count|\n",
      "+--------------+-----+\n",
      "| Use_telephone|15225|\n",
      "| Standup_chair|25417|\n",
      "|      Eat_meat|31236|\n",
      "|     Getup_bed|45801|\n",
      "|   Drink_glass|42792|\n",
      "|    Pour_water|41673|\n",
      "|     Comb_hair|23504|\n",
      "|          Walk|92254|\n",
      "|  Climb_stairs|40258|\n",
      "| Sitdown_chair|25036|\n",
      "|   Liedown_bed|11446|\n",
      "|Descend_stairs|15375|\n",
      "|   Brush_teeth|29829|\n",
      "|      Eat_soup| 6683|\n",
      "+--------------+-----+\n",
      "\n"
     ]
    }
   ],
   "source": [
    "class_counts=spark.sql('select class, count(*) as count from df group by class')\n",
    "class_counts.show()"
   ]
  },
  {
   "cell_type": "code",
   "execution_count": 67,
   "metadata": {},
   "outputs": [
    {
     "data": {
      "text/plain": [
       "<matplotlib.axes._subplots.AxesSubplot at 0x1a1e6b5d90>"
      ]
     },
     "execution_count": 67,
     "metadata": {},
     "output_type": "execute_result"
    },
    {
     "data": {
      "image/png": "[encoded data removed]",
      "text/plain": [
       "<Figure size 720x576 with 1 Axes>"
      ]
     },
     "metadata": {
      "needs_background": "light"
     },
     "output_type": "display_data"
    }
   ],
   "source": [
    "# Bar chart with seaborn\n",
    "fig, ax = plt.subplots(1, 1, figsize=(10, 8))\n",
    "sns.barplot(y='class', x='count', data=class_counts.toPandas())"
   ]
  },
  {
   "cell_type": "code",
   "execution_count": 68,
   "metadata": {},
   "outputs": [
    {
     "name": "stdout",
     "output_type": "stream",
     "text": [
      "+--------------+------------------+------------------+--------------------+--------------------+\n",
      "|         class|              mean|            stddev|            skewness|            kurtosis|\n",
      "+--------------+------------------+------------------+--------------------+--------------------+\n",
      "| Use_telephone| 46.38108374384237| 4.513241393892794| -0.5131233366074077| 0.17798176092970408|\n",
      "| Standup_chair| 41.06129755675335| 8.368604531264426| 0.09372062335788772| -1.3273653838881427|\n",
      "|      Eat_meat|50.732168011269046|2.8486012596744095| -1.9229950246195278|   3.901203742638093|\n",
      "|     Getup_bed| 42.50450863518264|  8.25752180457239| -0.5010453424041553|-0.00492869537061...|\n",
      "|   Drink_glass| 49.08013180033651| 2.939888478378836| -0.9003736116594014|  1.4612650215915384|\n",
      "|    Pour_water| 49.32512658075972|  3.44048855657184|  -1.315827893589405|   3.110667397244592|\n",
      "|     Comb_hair|  43.3518975493533|7.7823498077618085|-0.05636554300821405| -0.0779550994629914|\n",
      "|          Walk|35.590966245366054| 4.281120243558628|  1.9684547332983253|  5.3836677134461794|\n",
      "|  Climb_stairs| 35.77999403845198|  5.11454216430978|  1.8141167933050226|   4.066556504714332|\n",
      "| Sitdown_chair| 43.46840549608564|  8.49216560851735|-0.36492712802409766| -1.2378413095200254|\n",
      "|   Liedown_bed|43.573125982876114| 8.391180403689566| -0.4549046156240564| -0.6836595388450379|\n",
      "|Descend_stairs|37.027447154471545| 5.864080017728832|  1.3502434441657583|   1.336873457924149|\n",
      "|   Brush_teeth| 34.50065372623956| 8.771653674307242| -0.5862451713331728|  0.6126587274866049|\n",
      "|      Eat_soup|47.508753553793206| 2.576464224745278|  0.4724340932322172| -0.3718826870825529|\n",
      "+--------------+------------------+------------------+--------------------+--------------------+\n",
      "\n"
     ]
    }
   ],
   "source": [
    "# Compute some stat measures using sql\n",
    "spark.sql('''\n",
    "    select class, \n",
    "        mean(z) as mean,\n",
    "        stddev(z) as stddev,\n",
    "        skewness(z) as skewness,\n",
    "        kurtosis(z) as kurtosis\n",
    "    from df\n",
    "    group by class\n",
    "\n",
    "''').show()"
   ]
  },
  {
   "cell_type": "code",
   "execution_count": 69,
   "metadata": {},
   "outputs": [
    {
     "name": "stdout",
     "output_type": "stream",
     "text": [
      "+-------+------------------+-----------------+-----------------+\n",
      "|summary|                 x|                y|                z|\n",
      "+-------+------------------+-----------------+-----------------+\n",
      "|  count|            446529|           446529|           446529|\n",
      "|   mean|24.671555486877672|38.21949078335338|41.83984242904716|\n",
      "| stddev| 12.15759300618102|7.690688487231707|8.303435899413733|\n",
      "|    min|                 0|                0|                0|\n",
      "|    max|                63|               63|               63|\n",
      "+-------+------------------+-----------------+-----------------+\n",
      "\n"
     ]
    }
   ],
   "source": [
    "df.select(['x', 'y', 'z']).describe().show()"
   ]
  },
  {
   "cell_type": "code",
   "execution_count": 70,
   "metadata": {},
   "outputs": [
    {
     "data": {
      "text/plain": [
       "0.7092729120837249"
      ]
     },
     "execution_count": 70,
     "metadata": {},
     "output_type": "execute_result"
    }
   ],
   "source": [
    "# Correlation\n",
    "x=[1,2,3,4,5,6,7,8,9,10]\n",
    "y=[7,6,5,4,5,6,7,8,9,10]\n",
    "df_test = spark.createDataFrame(zip(x,y), ['val1', 'val2'])\n",
    "df_test.corr('val1', 'val2')"
   ]
  },
  {
   "cell_type": "code",
   "execution_count": 71,
   "metadata": {},
   "outputs": [
    {
     "data": {
      "text/plain": [
       "4.055555555555555"
      ]
     },
     "execution_count": 71,
     "metadata": {},
     "output_type": "execute_result"
    }
   ],
   "source": [
    "# Covariance\n",
    "df_test.cov('val1', 'val2')"
   ]
  },
  {
   "cell_type": "code",
   "execution_count": 73,
   "metadata": {},
   "outputs": [
    {
     "name": "stdout",
     "output_type": "stream",
     "text": [
      "+---------------+\n",
      "|  skewness(val)|\n",
      "+---------------+\n",
      "|1.4549069329914|\n",
      "+---------------+\n",
      "\n"
     ]
    }
   ],
   "source": [
    "# Skewness as spark function\n",
    "x=[34,1,23,4,3,3,12,4,3,1]\n",
    "df_test = spark.createDataFrame(pd.DataFrame(x, columns=['val']))\n",
    "df_test.select(func.skewness(df_test.val)).show()"
   ]
  },
  {
   "cell_type": "markdown",
   "metadata": {},
   "source": [
    "### Safe data as parquet format"
   ]
  },
  {
   "cell_type": "code",
   "execution_count": 75,
   "metadata": {},
   "outputs": [
    {
     "name": "stdout",
     "output_type": "stream",
     "text": [
      "+----+---------+------------+----------+------+------------+----+------+--------------------+\n",
      "| mpg|cylinders|displacement|horsepower|weight|acceleration|year|origin|                name|\n",
      "+----+---------+------------+----------+------+------------+----+------+--------------------+\n",
      "|18.0|        8|       307.0|     130.0|3504.0|        12.0|  70|     1|chevrolet chevell...|\n",
      "|15.0|        8|       350.0|     165.0|3693.0|        11.5|  70|     1|   buick skylark 320|\n",
      "|18.0|        8|       318.0|     150.0|3436.0|        11.0|  70|     1|  plymouth satellite|\n",
      "|16.0|        8|       304.0|     150.0|3433.0|        12.0|  70|     1|       amc rebel sst|\n",
      "|17.0|        8|       302.0|     140.0|3449.0|        10.5|  70|     1|         ford torino|\n",
      "|15.0|        8|       429.0|     198.0|4341.0|        10.0|  70|     1|    ford galaxie 500|\n",
      "|14.0|        8|       454.0|     220.0|4354.0|         9.0|  70|     1|    chevrolet impala|\n",
      "|14.0|        8|       440.0|     215.0|4312.0|         8.5|  70|     1|   plymouth fury iii|\n",
      "|14.0|        8|       455.0|     225.0|4425.0|        10.0|  70|     1|    pontiac catalina|\n",
      "|15.0|        8|       390.0|     190.0|3850.0|         8.5|  70|     1|  amc ambassador dpl|\n",
      "|15.0|        8|       383.0|     170.0|3563.0|        10.0|  70|     1| dodge challenger se|\n",
      "|14.0|        8|       340.0|     160.0|3609.0|         8.0|  70|     1|  plymouth 'cuda 340|\n",
      "|15.0|        8|       400.0|     150.0|3761.0|         9.5|  70|     1|chevrolet monte c...|\n",
      "|14.0|        8|       455.0|     225.0|3086.0|        10.0|  70|     1|buick estate wago...|\n",
      "|24.0|        4|       113.0|      95.0|2372.0|        15.0|  70|     3|toyota corona mar...|\n",
      "|22.0|        6|       198.0|      95.0|2833.0|        15.5|  70|     1|     plymouth duster|\n",
      "|18.0|        6|       199.0|      97.0|2774.0|        15.5|  70|     1|          amc hornet|\n",
      "|21.0|        6|       200.0|      85.0|2587.0|        16.0|  70|     1|       ford maverick|\n",
      "|27.0|        4|        97.0|      88.0|2130.0|        14.5|  70|     3|        datsun pl510|\n",
      "|26.0|        4|        97.0|      46.0|1835.0|        20.5|  70|     2|volkswagen 1131 d...|\n",
      "+----+---------+------------+----------+------+------------+----+------+--------------------+\n",
      "only showing top 20 rows\n",
      "\n"
     ]
    }
   ],
   "source": [
    "df_auto.show()"
   ]
  },
  {
   "cell_type": "code",
   "execution_count": 76,
   "metadata": {},
   "outputs": [
    {
     "data": {
      "text/plain": [
       "1"
      ]
     },
     "execution_count": 76,
     "metadata": {},
     "output_type": "execute_result"
    }
   ],
   "source": [
    "df_auto.rdd.getNumPartitions()"
   ]
  },
  {
   "cell_type": "code",
   "execution_count": 77,
   "metadata": {},
   "outputs": [
    {
     "data": {
      "text/plain": [
       "4"
      ]
     },
     "execution_count": 77,
     "metadata": {},
     "output_type": "execute_result"
    }
   ],
   "source": [
    "df_auto2=df_auto.repartition(4)\n",
    "df_auto2.rdd.getNumPartitions()"
   ]
  },
  {
   "cell_type": "code",
   "execution_count": 78,
   "metadata": {},
   "outputs": [],
   "source": [
    "# File distributed in 4 partitions\n",
    "df_auto2.write.parquet(\"auto.parquet\")"
   ]
  },
  {
   "cell_type": "code",
   "execution_count": 79,
   "metadata": {
    "jupyter": {
     "source_hidden": true
    }
   },
   "outputs": [],
   "source": [
    "# Save file in one partition\n",
    "df_auto2.coalesce(1).write.parquet(\"auto_one.parquet\")"
   ]
  },
  {
   "cell_type": "code",
   "execution_count": null,
   "metadata": {},
   "outputs": [],
   "source": []
  }
 ],
 "metadata": {
  "kernelspec": {
   "display_name": "Python 3",
   "language": "python",
   "name": "python3"
  },
  "language_info": {
   "codemirror_mode": {
    "name": "ipython",
    "version": 3
   },
   "file_extension": ".py",
   "mimetype": "text/x-python",
   "name": "python",
   "nbconvert_exporter": "python",
   "pygments_lexer": "ipython3",
   "version": "3.7.6"
  }
 },
 "nbformat": 4,
 "nbformat_minor": 4
}
