{
 "cells": [
  {
   "cell_type": "markdown",
   "metadata": {},
   "source": [
    "# More on Spark DataFrames"
   ]
  },
  {
   "cell_type": "code",
   "execution_count": 9,
   "metadata": {},
   "outputs": [],
   "source": [
    "import pyspark\n",
    "from pyspark.sql import SparkSession\n",
    "import pyspark.ml.stat as spark_stat\n",
    "import pyspark.sql.functions as spark_f\n",
    "import pyspark.sql.types as spark_types\n",
    "import pandas as pd\n",
    "import matplotlib.pyplot as plt\n",
    "import seaborn as sns\n",
    "import numpy as np\n",
    "import pandas as pd"
   ]
  },
  {
   "cell_type": "code",
   "execution_count": 10,
   "metadata": {},
   "outputs": [],
   "source": [
    "spark = SparkSession.builder.appName('Spark Test App').getOrCreate() \n",
    "sc = spark.sparkContext"
   ]
  },
  {
   "cell_type": "markdown",
   "metadata": {},
   "source": [
    "Definitionally, a **DataFrame** consists of a series of **records** (like rows in a table), that are of **type Row**, and a number of columns (like columns in a spreadsheet) that represent an computation expression that can performed on each individual record in the dataset. The **schema** defines the name as well as the type of data in each column. The partitioning of the DataFrame defines the layout of the DataFrame or Dataset’s physical distribution across the cluster. The partitioning scheme defines how that is broken up, this can be set to be based on values in a certain column or non-deterministically."
   ]
  },
  {
   "cell_type": "markdown",
   "metadata": {},
   "source": [
    "### Schemas"
   ]
  },
  {
   "cell_type": "code",
   "execution_count": 11,
   "metadata": {},
   "outputs": [
    {
     "name": "stdout",
     "output_type": "stream",
     "text": [
      "+----+---------+------------+----------+------+------------+----+------+--------------------+\n",
      "| mpg|cylinders|displacement|horsepower|weight|acceleration|year|origin|                name|\n",
      "+----+---------+------------+----------+------+------------+----+------+--------------------+\n",
      "|18.0|        8|       307.0|       130|  3504|        12.0|  70|     1|chevrolet chevell...|\n",
      "|15.0|        8|       350.0|       165|  3693|        11.5|  70|     1|   buick skylark 320|\n",
      "|18.0|        8|       318.0|       150|  3436|        11.0|  70|     1|  plymouth satellite|\n",
      "|16.0|        8|       304.0|       150|  3433|        12.0|  70|     1|       amc rebel sst|\n",
      "|17.0|        8|       302.0|       140|  3449|        10.5|  70|     1|         ford torino|\n",
      "+----+---------+------------+----------+------+------------+----+------+--------------------+\n",
      "only showing top 5 rows\n",
      "\n"
     ]
    }
   ],
   "source": [
    "# From a csv file with inferred schema\n",
    "df_auto = spark.read.csv('../Stat_Learning/data/Auto.csv', header=True, inferSchema=True)\n",
    "df_auto.show(5)"
   ]
  },
  {
   "cell_type": "code",
   "execution_count": 12,
   "metadata": {},
   "outputs": [
    {
     "data": {
      "text/plain": [
       "StructType(List(StructField(mpg,DoubleType,true),StructField(cylinders,IntegerType,true),StructField(displacement,DoubleType,true),StructField(horsepower,StringType,true),StructField(weight,IntegerType,true),StructField(acceleration,DoubleType,true),StructField(year,IntegerType,true),StructField(origin,IntegerType,true),StructField(name,StringType,true)))"
      ]
     },
     "execution_count": 12,
     "metadata": {},
     "output_type": "execute_result"
    }
   ],
   "source": [
    "df_auto.schema"
   ]
  },
  {
   "cell_type": "markdown",
   "metadata": {},
   "source": [
    "A schema is a **StructType** made up of a number of fields, **StructFields**, that have a name, type, and a boolean flag which specifies whether or not that column can contain missing or null values."
   ]
  },
  {
   "cell_type": "code",
   "execution_count": 13,
   "metadata": {},
   "outputs": [
    {
     "name": "stdout",
     "output_type": "stream",
     "text": [
      "root\n",
      " |-- mpg: double (nullable = true)\n",
      " |-- cylinders: integer (nullable = true)\n",
      " |-- displacement: double (nullable = true)\n",
      " |-- horsepower: string (nullable = true)\n",
      " |-- weight: integer (nullable = true)\n",
      " |-- acceleration: double (nullable = true)\n",
      " |-- year: integer (nullable = true)\n",
      " |-- origin: integer (nullable = true)\n",
      " |-- name: string (nullable = true)\n",
      "\n"
     ]
    }
   ],
   "source": [
    "df_auto.printSchema()"
   ]
  },
  {
   "cell_type": "code",
   "execution_count": 14,
   "metadata": {},
   "outputs": [],
   "source": [
    "# Define a manual schema\n",
    "my_schema = spark_types.StructType([\n",
    "    spark_types.StructField('mpg', spark_types.FloatType(), True),\n",
    "    spark_types.StructField('cylinders', spark_types.ByteType(), True),\n",
    "    spark_types.StructField('displacement', spark_types.FloatType(), True),\n",
    "    spark_types.StructField('horsepower', spark_types.FloatType(), True),\n",
    "    spark_types.StructField('weight', spark_types.FloatType(), True),\n",
    "    spark_types.StructField('acceleration', spark_types.FloatType(), True),\n",
    "    spark_types.StructField('year', spark_types.ByteType(), True),\n",
    "    spark_types.StructField('origin', spark_types.ByteType(), True),\n",
    "    spark_types.StructField('name', spark_types.StringType(), True),\n",
    "])"
   ]
  },
  {
   "cell_type": "code",
   "execution_count": 15,
   "metadata": {},
   "outputs": [
    {
     "name": "stdout",
     "output_type": "stream",
     "text": [
      "+----+---------+------------+----------+------+------------+----+------+--------------------+\n",
      "| mpg|cylinders|displacement|horsepower|weight|acceleration|year|origin|                name|\n",
      "+----+---------+------------+----------+------+------------+----+------+--------------------+\n",
      "|18.0|        8|       307.0|     130.0|3504.0|        12.0|  70|     1|chevrolet chevell...|\n",
      "|15.0|        8|       350.0|     165.0|3693.0|        11.5|  70|     1|   buick skylark 320|\n",
      "|18.0|        8|       318.0|     150.0|3436.0|        11.0|  70|     1|  plymouth satellite|\n",
      "|16.0|        8|       304.0|     150.0|3433.0|        12.0|  70|     1|       amc rebel sst|\n",
      "|17.0|        8|       302.0|     140.0|3449.0|        10.5|  70|     1|         ford torino|\n",
      "+----+---------+------------+----------+------+------------+----+------+--------------------+\n",
      "only showing top 5 rows\n",
      "\n"
     ]
    }
   ],
   "source": [
    "# Read data with manual schema\n",
    "df_auto = spark.read.csv('../Stat_Learning/data/Auto.csv', header=True, schema=my_schema)\n",
    "df_auto.show(5)"
   ]
  },
  {
   "cell_type": "code",
   "execution_count": 16,
   "metadata": {},
   "outputs": [
    {
     "name": "stdout",
     "output_type": "stream",
     "text": [
      "root\n",
      " |-- mpg: float (nullable = true)\n",
      " |-- cylinders: byte (nullable = true)\n",
      " |-- displacement: float (nullable = true)\n",
      " |-- horsepower: float (nullable = true)\n",
      " |-- weight: float (nullable = true)\n",
      " |-- acceleration: float (nullable = true)\n",
      " |-- year: byte (nullable = true)\n",
      " |-- origin: byte (nullable = true)\n",
      " |-- name: string (nullable = true)\n",
      "\n"
     ]
    }
   ],
   "source": [
    "df_auto.printSchema()"
   ]
  },
  {
   "cell_type": "markdown",
   "metadata": {},
   "source": [
    "### Aggregations"
   ]
  },
  {
   "cell_type": "code",
   "execution_count": 17,
   "metadata": {},
   "outputs": [],
   "source": [
    "df_auto.createOrReplaceTempView('df_auto')"
   ]
  },
  {
   "cell_type": "code",
   "execution_count": 20,
   "metadata": {},
   "outputs": [
    {
     "name": "stdout",
     "output_type": "stream",
     "text": [
      "+----+------------------+------------------+\n",
      "|year|          avg(mpg)|   avg(horsepower)|\n",
      "+----+------------------+------------------+\n",
      "|null|              null|              null|\n",
      "|  70|17.689655172413794|147.82758620689654|\n",
      "|  71| 21.11111111111111|107.03703703703704|\n",
      "|  72|18.714285714285715|120.17857142857143|\n",
      "|  73|              17.1|           130.475|\n",
      "|  74| 22.76923076923077| 94.23076923076923|\n",
      "|  75|20.266666666666666|101.06666666666666|\n",
      "|  76|21.573529411764707|101.11764705882354|\n",
      "|  77|            23.375|105.07142857142857|\n",
      "|  78|24.061111132303875| 99.69444444444444|\n",
      "|  79|25.093103343042834|101.20689655172414|\n",
      "|  80|33.803703520033096| 77.48148148148148|\n",
      "|  81| 30.18571444920131| 81.03571428571429|\n",
      "|  82|              32.0| 81.46666666666667|\n",
      "+----+------------------+------------------+\n",
      "\n"
     ]
    }
   ],
   "source": [
    "# Standard Aggregation\n",
    "spark.sql('''\n",
    "    select year,\n",
    "        mean(mpg),\n",
    "        mean(horsepower)\n",
    "    from df_auto\n",
    "    group by year\n",
    "    order by year\n",
    "''').show()"
   ]
  },
  {
   "cell_type": "code",
   "execution_count": 48,
   "metadata": {},
   "outputs": [
    {
     "name": "stdout",
     "output_type": "stream",
     "text": [
      "+----+--------------------+------------------+\n",
      "|year|                name|      mpg_relative|\n",
      "+----+--------------------+------------------+\n",
      "|  78|volkswagen rabbit...|1.7912721585104214|\n",
      "|  78|         ford fiesta|1.5003462755988062|\n",
      "|  78|    mazda glc deluxe|1.3631955339345925|\n",
      "|  78|      datsun b210 gx|1.6374971758050443|\n",
      "|  78|    honda civic cvcc|1.5003462755988062|\n",
      "|  78|oldsmobile cutlas...|0.8270607084231039|\n",
      "|  78|      dodge diplomat|0.8062802882151313|\n",
      "|  78|mercury monarch ghia|0.8395290081104947|\n",
      "|  78|  pontiac phoenix lj|0.7979681676945496|\n",
      "|  78|    chevrolet malibu|0.8519972285268733|\n",
      "|  78|ford fairmont (auto)|0.8395290081104947|\n",
      "|  78| ford fairmont (man)| 1.043177110294423|\n",
      "|  78|     plymouth volare|0.8519972285268733|\n",
      "|  78|         amc concord|0.8062802882151313|\n",
      "|  78|buick century spe...|0.8561533284226702|\n",
      "|  78|      mercury zephyr| 0.864465448943252|\n",
      "|  78|         dodge aspen|0.7730316475907801|\n",
      "|  78|     amc concord d/l|0.7522512273828077|\n",
      "|  78|chevrolet monte c...|0.7979681676945496|\n",
      "|  78|buick regal sport...| 0.735626907070632|\n",
      "+----+--------------------+------------------+\n",
      "only showing top 20 rows\n",
      "\n"
     ]
    }
   ],
   "source": [
    "# Window Function: Deviation from year Average\n",
    "spark.sql('''\n",
    "    select year, \n",
    "        name,\n",
    "        mpg/mean(mpg) over(partition by year order by year) as mpg_relative\n",
    "    from df_auto\n",
    "''').show()"
   ]
  },
  {
   "cell_type": "code",
   "execution_count": 50,
   "metadata": {},
   "outputs": [
    {
     "name": "stdout",
     "output_type": "stream",
     "text": [
      "+----+--------------------+----+--------+\n",
      "|year|                name| mpg|mpg_rank|\n",
      "+----+--------------------+----+--------+\n",
      "|  78|volkswagen rabbit...|43.1|       1|\n",
      "|  78|      datsun b210 gx|39.4|       2|\n",
      "|  78|         ford fiesta|36.1|       3|\n",
      "|  78|    honda civic cvcc|36.1|       3|\n",
      "|  78|    mazda glc deluxe|32.8|       5|\n",
      "|  78| volkswagen scirocco|31.5|       6|\n",
      "|  78|          dodge omni|30.9|       7|\n",
      "|  78|  chevrolet chevette|30.0|       8|\n",
      "|  78|     honda accord lx|29.5|       9|\n",
      "|  78|       toyota corona|27.5|      10|\n",
      "|  78|          datsun 510|27.2|      11|\n",
      "|  78| ford fairmont (man)|25.1|      12|\n",
      "|  78|       datsun 200-sx|23.9|      13|\n",
      "|  78|oldsmobile starfi...|23.8|      14|\n",
      "|  78|    plymouth sapporo|23.2|      15|\n",
      "|  78|          saab 99gle|21.6|      16|\n",
      "|  78|toyota celica gt ...|21.1|      17|\n",
      "|  78|      mercury zephyr|20.8|      18|\n",
      "|  78|buick century spe...|20.6|      19|\n",
      "|  78|    chevrolet malibu|20.5|      20|\n",
      "+----+--------------------+----+--------+\n",
      "only showing top 20 rows\n",
      "\n"
     ]
    }
   ],
   "source": [
    "# Window Function: Ranking within years\n",
    "spark.sql('''\n",
    "    select year, \n",
    "        name,\n",
    "        mpg,\n",
    "        rank(mpg) over(partition by year \n",
    "                        order by mpg desc\n",
    "                        rows between unbounded preceding and current row) as mpg_rank\n",
    "    from df_auto\n",
    "''').show()"
   ]
  },
  {
   "cell_type": "markdown",
   "metadata": {},
   "source": [
    "### More on Spark SQL"
   ]
  },
  {
   "cell_type": "code",
   "execution_count": 54,
   "metadata": {},
   "outputs": [
    {
     "name": "stdout",
     "output_type": "stream",
     "text": [
      "+--------+---------+-----------+\n",
      "|database|tableName|isTemporary|\n",
      "+--------+---------+-----------+\n",
      "|        |  df_auto|       true|\n",
      "+--------+---------+-----------+\n",
      "\n"
     ]
    }
   ],
   "source": [
    "# Show current tables\n",
    "spark.sql('SHOW TABLES').show()"
   ]
  },
  {
   "cell_type": "code",
   "execution_count": 55,
   "metadata": {},
   "outputs": [
    {
     "name": "stdout",
     "output_type": "stream",
     "text": [
      "+------------+---------+-------+\n",
      "|    col_name|data_type|comment|\n",
      "+------------+---------+-------+\n",
      "|         mpg|    float|   null|\n",
      "|   cylinders|  tinyint|   null|\n",
      "|displacement|    float|   null|\n",
      "|  horsepower|    float|   null|\n",
      "|      weight|    float|   null|\n",
      "|acceleration|    float|   null|\n",
      "|        year|  tinyint|   null|\n",
      "|      origin|  tinyint|   null|\n",
      "|        name|   string|   null|\n",
      "+------------+---------+-------+\n",
      "\n"
     ]
    }
   ],
   "source": [
    "# Show table metadata\n",
    "spark.sql('DESCRIBE TABLE df_auto').show()"
   ]
  },
  {
   "cell_type": "code",
   "execution_count": 72,
   "metadata": {},
   "outputs": [
    {
     "name": "stdout",
     "output_type": "stream",
     "text": [
      "+----------+\n",
      "|  function|\n",
      "+----------+\n",
      "|    base64|\n",
      "|    bigint|\n",
      "|       bin|\n",
      "|    binary|\n",
      "|bit_length|\n",
      "|   boolean|\n",
      "|    bround|\n",
      "+----------+\n",
      "\n"
     ]
    }
   ],
   "source": [
    "# Show available functions\n",
    "spark.sql('SHOW FUNCTIONS LIKE \"b*\"').show(100)"
   ]
  },
  {
   "cell_type": "code",
   "execution_count": null,
   "metadata": {},
   "outputs": [],
   "source": []
  }
 ],
 "metadata": {
  "kernelspec": {
   "display_name": "Python 3",
   "language": "python",
   "name": "python3"
  },
  "language_info": {
   "codemirror_mode": {
    "name": "ipython",
    "version": 3
   },
   "file_extension": ".py",
   "mimetype": "text/x-python",
   "name": "python",
   "nbconvert_exporter": "python",
   "pygments_lexer": "ipython3",
   "version": "3.7.6"
  }
 },
 "nbformat": 4,
 "nbformat_minor": 4
}
