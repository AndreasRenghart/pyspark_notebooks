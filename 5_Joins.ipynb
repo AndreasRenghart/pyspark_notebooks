{
 "cells": [
  {
   "cell_type": "markdown",
   "metadata": {},
   "source": [
    "# Joins"
   ]
  },
  {
   "cell_type": "code",
   "execution_count": 2,
   "metadata": {},
   "outputs": [],
   "source": [
    "import pyspark\n",
    "from pyspark.sql import SparkSession\n",
    "import pyspark.ml.stat as ml_stat\n",
    "import pyspark.sql.functions as func\n",
    "import pyspark.sql.types as types\n",
    "from pyspark.sql import Window\n",
    "import pandas as pd\n",
    "import matplotlib.pyplot as plt\n",
    "import seaborn as sns\n",
    "import numpy as np\n",
    "import pandas as pd"
   ]
  },
  {
   "cell_type": "code",
   "execution_count": 3,
   "metadata": {},
   "outputs": [],
   "source": [
    "spark = SparkSession.builder.appName('Spark Test App').getOrCreate() \n",
    "sc = spark.sparkContext"
   ]
  },
  {
   "cell_type": "code",
   "execution_count": 4,
   "metadata": {},
   "outputs": [],
   "source": [
    "# Test Data Frames\n",
    "df1 = spark.createDataFrame([\n",
    "    ('1', 'Joe', '70000', '1'),\n",
    "    ('2', 'Henry', '80000', '2'),\n",
    "    ('3', 'Tom',   '60000', '2'),\n",
    "    ('3', 'Judy',   '60000', '3'),\n",
    "    ('3', 'Cathy',   '60000', '5')\n",
    "    ],\n",
    "    ['Id', 'Name', 'Salary','DepartmentId']\n",
    ")\n",
    "df2 = spark.createDataFrame([\n",
    "    ('1', 'Headquarter'),\n",
    "    ('2', 'Finance'),\n",
    "    ('3', 'Sales'),\n",
    "    ('4', 'HR')],\n",
    "    ['DepartmentId', 'DepartmentName']\n",
    ")"
   ]
  },
  {
   "cell_type": "markdown",
   "metadata": {},
   "source": [
    "### Join Types"
   ]
  },
  {
   "cell_type": "code",
   "execution_count": 5,
   "metadata": {},
   "outputs": [
    {
     "name": "stdout",
     "output_type": "stream",
     "text": [
      "+---+-----+------+------------+--------------+\n",
      "| Id| Name|Salary|DepartmentId|DepartmentName|\n",
      "+---+-----+------+------------+--------------+\n",
      "|  3| Judy| 60000|           3|         Sales|\n",
      "|  1|  Joe| 70000|           1|   Headquarter|\n",
      "|  2|Henry| 80000|           2|       Finance|\n",
      "|  3|  Tom| 60000|           2|       Finance|\n",
      "+---+-----+------+------------+--------------+\n",
      "\n"
     ]
    }
   ],
   "source": [
    "# Inner Join\n",
    "df1.join(df2, on=df1['DepartmentId']==df2['DepartmentId'], how='inner') \\\n",
    "    .drop(df2['DepartmentId']) \\\n",
    "    .show()"
   ]
  },
  {
   "cell_type": "code",
   "execution_count": 6,
   "metadata": {},
   "outputs": [
    {
     "name": "stdout",
     "output_type": "stream",
     "text": [
      "+---+-----+------+------------+--------------+\n",
      "| Id| Name|Salary|DepartmentId|DepartmentName|\n",
      "+---+-----+------+------------+--------------+\n",
      "|  3| Judy| 60000|           3|         Sales|\n",
      "|  3|Cathy| 60000|           5|          null|\n",
      "|  1|  Joe| 70000|           1|   Headquarter|\n",
      "|  2|Henry| 80000|           2|       Finance|\n",
      "|  3|  Tom| 60000|           2|       Finance|\n",
      "+---+-----+------+------------+--------------+\n",
      "\n"
     ]
    }
   ],
   "source": [
    "# Left Join\n",
    "df1.join(df2, on=df1['DepartmentId']==df2['DepartmentId'], how='left') \\\n",
    "    .drop(df2['DepartmentId']) \\\n",
    "    .show()"
   ]
  },
  {
   "cell_type": "code",
   "execution_count": 24,
   "metadata": {},
   "outputs": [
    {
     "name": "stdout",
     "output_type": "stream",
     "text": [
      "+----+-----+------+------------+--------------+\n",
      "|  Id| Name|Salary|DepartmentId|DepartmentName|\n",
      "+----+-----+------+------------+--------------+\n",
      "|   3| Judy| 60000|           3|         Sales|\n",
      "|   1|  Joe| 70000|           1|   Headquarter|\n",
      "|null| null|  null|        null|            HR|\n",
      "|   2|Henry| 80000|           2|       Finance|\n",
      "|   3|  Tom| 60000|           2|       Finance|\n",
      "+----+-----+------+------------+--------------+\n",
      "\n"
     ]
    }
   ],
   "source": [
    "# Right Join\n",
    "df1.join(df2, on=df1['DepartmentId']==df2['DepartmentId'], how='right') \\\n",
    "    .drop(df2['DepartmentId']) \\\n",
    "    .show()"
   ]
  },
  {
   "cell_type": "code",
   "execution_count": 27,
   "metadata": {},
   "outputs": [
    {
     "name": "stdout",
     "output_type": "stream",
     "text": [
      "+----+-----+------+------------+--------------+\n",
      "|  Id| Name|Salary|DepartmentId|DepartmentName|\n",
      "+----+-----+------+------------+--------------+\n",
      "|   3| Judy| 60000|           3|         Sales|\n",
      "|   3|Cathy| 60000|           5|          null|\n",
      "|   1|  Joe| 70000|           1|   Headquarter|\n",
      "|null| null|  null|        null|            HR|\n",
      "|   2|Henry| 80000|           2|       Finance|\n",
      "|   3|  Tom| 60000|           2|       Finance|\n",
      "+----+-----+------+------------+--------------+\n",
      "\n"
     ]
    }
   ],
   "source": [
    "# Full outer join\n",
    "df1.join(df2, on=df1['DepartmentId']==df2['DepartmentId'], how='full') \\\n",
    "    .drop(df2['DepartmentId']) \\\n",
    "    .show()"
   ]
  },
  {
   "cell_type": "code",
   "execution_count": 28,
   "metadata": {},
   "outputs": [
    {
     "name": "stdout",
     "output_type": "stream",
     "text": [
      "+---+-----+------+------------+\n",
      "| Id| Name|Salary|DepartmentId|\n",
      "+---+-----+------+------------+\n",
      "|  3| Judy| 60000|           3|\n",
      "|  1|  Joe| 70000|           1|\n",
      "|  2|Henry| 80000|           2|\n",
      "|  3|  Tom| 60000|           2|\n",
      "+---+-----+------+------------+\n",
      "\n"
     ]
    }
   ],
   "source": [
    "# Left semi join\n",
    "df1.join(df2, on=df1['DepartmentId']==df2['DepartmentId'], how='left_semi') \\\n",
    "    .drop(df2['DepartmentId']) \\\n",
    "    .show()"
   ]
  },
  {
   "cell_type": "code",
   "execution_count": 30,
   "metadata": {},
   "outputs": [
    {
     "name": "stdout",
     "output_type": "stream",
     "text": [
      "+---+-----+------+------------+\n",
      "| Id| Name|Salary|DepartmentId|\n",
      "+---+-----+------+------------+\n",
      "|  3|Cathy| 60000|           5|\n",
      "+---+-----+------+------------+\n",
      "\n"
     ]
    }
   ],
   "source": [
    "# Left anti join\n",
    "df1.join(df2, on=df1['DepartmentId']==df2['DepartmentId'], how='left_anti') \\\n",
    "    .drop(df2['DepartmentId']) \\\n",
    "    .show()"
   ]
  },
  {
   "cell_type": "code",
   "execution_count": null,
   "metadata": {},
   "outputs": [],
   "source": []
  }
 ],
 "metadata": {
  "kernelspec": {
   "display_name": "Python 3",
   "language": "python",
   "name": "python3"
  },
  "language_info": {
   "codemirror_mode": {
    "name": "ipython",
    "version": 3
   },
   "file_extension": ".py",
   "mimetype": "text/x-python",
   "name": "python",
   "nbconvert_exporter": "python",
   "pygments_lexer": "ipython3",
   "version": "3.7.6"
  }
 },
 "nbformat": 4,
 "nbformat_minor": 4
}
