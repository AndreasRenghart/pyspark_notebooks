{
 "cells": [
  {
   "cell_type": "markdown",
   "metadata": {},
   "source": [
    "# DataFrame Operations - Basics"
   ]
  },
  {
   "cell_type": "code",
   "execution_count": 1,
   "metadata": {},
   "outputs": [],
   "source": [
    "import pyspark\n",
    "from pyspark.sql import SparkSession\n",
    "import pyspark.ml.stat as ml_stat\n",
    "import pyspark.sql.functions as func\n",
    "import pyspark.sql.types as types\n",
    "import pandas as pd\n",
    "import matplotlib.pyplot as plt\n",
    "import seaborn as sns\n",
    "import numpy as np\n",
    "import pandas as pd"
   ]
  },
  {
   "cell_type": "code",
   "execution_count": 2,
   "metadata": {},
   "outputs": [],
   "source": [
    "spark = SparkSession.builder.appName('Spark Test App').getOrCreate() \n",
    "sc = spark.sparkContext"
   ]
  },
  {
   "cell_type": "code",
   "execution_count": 3,
   "metadata": {},
   "outputs": [
    {
     "name": "stdout",
     "output_type": "stream",
     "text": [
      "+----+---------+------------+----------+------+------------+----+------+--------------------+\n",
      "| mpg|cylinders|displacement|horsepower|weight|acceleration|year|origin|                name|\n",
      "+----+---------+------------+----------+------+------------+----+------+--------------------+\n",
      "|18.0|        8|       307.0|       130|  3504|        12.0|  70|     1|chevrolet chevell...|\n",
      "|15.0|        8|       350.0|       165|  3693|        11.5|  70|     1|   buick skylark 320|\n",
      "|18.0|        8|       318.0|       150|  3436|        11.0|  70|     1|  plymouth satellite|\n",
      "|16.0|        8|       304.0|       150|  3433|        12.0|  70|     1|       amc rebel sst|\n",
      "|17.0|        8|       302.0|       140|  3449|        10.5|  70|     1|         ford torino|\n",
      "+----+---------+------------+----------+------+------------+----+------+--------------------+\n",
      "only showing top 5 rows\n",
      "\n"
     ]
    }
   ],
   "source": [
    "# Create Data Frame from a csv file with inferred schema\n",
    "df_auto = spark.read.csv('Auto.csv', header=True, inferSchema=True)\n",
    "df_auto.show(5)"
   ]
  },
  {
   "cell_type": "markdown",
   "metadata": {},
   "source": [
    "### Selecting"
   ]
  },
  {
   "cell_type": "code",
   "execution_count": 4,
   "metadata": {},
   "outputs": [
    {
     "name": "stdout",
     "output_type": "stream",
     "text": [
      "+----+--------------------+\n",
      "| mpg|                name|\n",
      "+----+--------------------+\n",
      "|18.0|chevrolet chevell...|\n",
      "|15.0|   buick skylark 320|\n",
      "|18.0|  plymouth satellite|\n",
      "|16.0|       amc rebel sst|\n",
      "|17.0|         ford torino|\n",
      "+----+--------------------+\n",
      "only showing top 5 rows\n",
      "\n"
     ]
    }
   ],
   "source": [
    "# Select certain columns\n",
    "df_auto.select('mpg', 'name') \\\n",
    "    .show(5)"
   ]
  },
  {
   "cell_type": "code",
   "execution_count": 7,
   "metadata": {},
   "outputs": [
    {
     "name": "stdout",
     "output_type": "stream",
     "text": [
      "+----+--------------------+\n",
      "| mpg|                name|\n",
      "+----+--------------------+\n",
      "|18.0|chevrolet chevell...|\n",
      "|15.0|   buick skylark 320|\n",
      "|18.0|  plymouth satellite|\n",
      "|16.0|       amc rebel sst|\n",
      "|17.0|         ford torino|\n",
      "+----+--------------------+\n",
      "only showing top 5 rows\n",
      "\n"
     ]
    }
   ],
   "source": [
    "# Columns can be designated differently\n",
    "df_auto.select(df_auto.mpg, 'name') \\\n",
    "    .show(5)"
   ]
  },
  {
   "cell_type": "code",
   "execution_count": 21,
   "metadata": {},
   "outputs": [
    {
     "name": "stdout",
     "output_type": "stream",
     "text": [
      "+--------------------+----+\n",
      "|             carname| mpg|\n",
      "+--------------------+----+\n",
      "|chevrolet chevell...|18.0|\n",
      "|   buick skylark 320|15.0|\n",
      "|  plymouth satellite|18.0|\n",
      "|       amc rebel sst|16.0|\n",
      "|         ford torino|17.0|\n",
      "+--------------------+----+\n",
      "only showing top 5 rows\n",
      "\n"
     ]
    }
   ],
   "source": [
    "# Select and change column using SQL like expression\n",
    "df_auto.selectExpr('name AS carname', \n",
    "                   'mpg') \\\n",
    "    .show(5)"
   ]
  },
  {
   "cell_type": "code",
   "execution_count": 31,
   "metadata": {},
   "outputs": [
    {
     "name": "stdout",
     "output_type": "stream",
     "text": [
      "+--------------------+----+\n",
      "|             carname| mpg|\n",
      "+--------------------+----+\n",
      "|chevrolet chevell...|18.0|\n",
      "|   buick skylark 320|15.0|\n",
      "|  plymouth satellite|18.0|\n",
      "|       amc rebel sst|16.0|\n",
      "|         ford torino|17.0|\n",
      "+--------------------+----+\n",
      "only showing top 5 rows\n",
      "\n"
     ]
    }
   ],
   "source": [
    "# Alternative for renaming:\n",
    "df_auto.select('name', 'mpg') \\\n",
    "    .withColumnRenamed('name', 'carname').show(5)"
   ]
  },
  {
   "cell_type": "code",
   "execution_count": 28,
   "metadata": {},
   "outputs": [
    {
     "name": "stdout",
     "output_type": "stream",
     "text": [
      "+----+---------+------------+----------+------+------------+----+------+--------------------+---------------+\n",
      "| mpg|cylinders|displacement|horsepower|weight|acceleration|year|origin|                name|litre_per_100km|\n",
      "+----+---------+------------+----------+------+------------+----+------+--------------------+---------------+\n",
      "|18.0|        8|       307.0|       130|  3504|        12.0|  70|     1|chevrolet chevell...|          13.06|\n",
      "|15.0|        8|       350.0|       165|  3693|        11.5|  70|     1|   buick skylark 320|          15.67|\n",
      "|18.0|        8|       318.0|       150|  3436|        11.0|  70|     1|  plymouth satellite|          13.06|\n",
      "|16.0|        8|       304.0|       150|  3433|        12.0|  70|     1|       amc rebel sst|          14.69|\n",
      "|17.0|        8|       302.0|       140|  3449|        10.5|  70|     1|         ford torino|          13.82|\n",
      "+----+---------+------------+----------+------+------------+----+------+--------------------+---------------+\n",
      "only showing top 5 rows\n",
      "\n"
     ]
    }
   ],
   "source": [
    "# Computed column\n",
    "df_auto.selectExpr('*',\n",
    "                  'round(235/mpg,2) as litre_per_100km') \\\n",
    "    .show(5)"
   ]
  },
  {
   "cell_type": "code",
   "execution_count": 29,
   "metadata": {},
   "outputs": [
    {
     "name": "stdout",
     "output_type": "stream",
     "text": [
      "+----+---------+------------+----------+------+------------+----+------+--------------------+---------------+\n",
      "| mpg|cylinders|displacement|horsepower|weight|acceleration|year|origin|                name|litre_per_100km|\n",
      "+----+---------+------------+----------+------+------------+----+------+--------------------+---------------+\n",
      "|18.0|        8|       307.0|       130|  3504|        12.0|  70|     1|chevrolet chevell...|          13.06|\n",
      "|15.0|        8|       350.0|       165|  3693|        11.5|  70|     1|   buick skylark 320|          15.67|\n",
      "|18.0|        8|       318.0|       150|  3436|        11.0|  70|     1|  plymouth satellite|          13.06|\n",
      "|16.0|        8|       304.0|       150|  3433|        12.0|  70|     1|       amc rebel sst|          14.69|\n",
      "|17.0|        8|       302.0|       140|  3449|        10.5|  70|     1|         ford torino|          13.82|\n",
      "+----+---------+------------+----------+------+------------+----+------+--------------------+---------------+\n",
      "only showing top 5 rows\n",
      "\n"
     ]
    }
   ],
   "source": [
    "# Alternative: withColumn\n",
    "df_auto.withColumn('litre_per_100km', func.expr('round(235/mpg,2)')).show(5)"
   ]
  },
  {
   "cell_type": "code",
   "execution_count": 32,
   "metadata": {},
   "outputs": [
    {
     "name": "stdout",
     "output_type": "stream",
     "text": [
      "+--------------------+----------------+\n",
      "|                name|Litres per 100km|\n",
      "+--------------------+----------------+\n",
      "|chevrolet chevell...|           13.06|\n",
      "|   buick skylark 320|           15.67|\n",
      "|  plymouth satellite|           13.06|\n",
      "|       amc rebel sst|           14.69|\n",
      "|         ford torino|           13.82|\n",
      "+--------------------+----------------+\n",
      "only showing top 5 rows\n",
      "\n"
     ]
    }
   ],
   "source": [
    "# Special column names in expressions -> backtick for escapig\n",
    "df_auto.selectExpr('name',\n",
    "                  'round(235/mpg,2) as `Litres per 100km`') \\\n",
    "    .show(5)"
   ]
  },
  {
   "cell_type": "code",
   "execution_count": 33,
   "metadata": {},
   "outputs": [
    {
     "name": "stdout",
     "output_type": "stream",
     "text": [
      "+----+---------+----------+------+----+--------------------+\n",
      "| mpg|cylinders|horsepower|weight|year|                name|\n",
      "+----+---------+----------+------+----+--------------------+\n",
      "|18.0|        8|       130|  3504|  70|chevrolet chevell...|\n",
      "|15.0|        8|       165|  3693|  70|   buick skylark 320|\n",
      "|18.0|        8|       150|  3436|  70|  plymouth satellite|\n",
      "|16.0|        8|       150|  3433|  70|       amc rebel sst|\n",
      "|17.0|        8|       140|  3449|  70|         ford torino|\n",
      "+----+---------+----------+------+----+--------------------+\n",
      "only showing top 5 rows\n",
      "\n"
     ]
    }
   ],
   "source": [
    "# Removing columns with drop\n",
    "df_auto.drop('displacement', 'acceleration', 'origin').show(5)"
   ]
  },
  {
   "cell_type": "markdown",
   "metadata": {},
   "source": [
    "### Type Casting"
   ]
  },
  {
   "cell_type": "code",
   "execution_count": 5,
   "metadata": {},
   "outputs": [
    {
     "name": "stdout",
     "output_type": "stream",
     "text": [
      "root\n",
      " |-- mpg: double (nullable = true)\n",
      " |-- cylinders: integer (nullable = true)\n",
      " |-- displacement: double (nullable = true)\n",
      " |-- horsepower: string (nullable = true)\n",
      " |-- weight: integer (nullable = true)\n",
      " |-- acceleration: double (nullable = true)\n",
      " |-- year: integer (nullable = true)\n",
      " |-- origin: integer (nullable = true)\n",
      " |-- name: string (nullable = true)\n",
      "\n"
     ]
    }
   ],
   "source": [
    "df_auto.printSchema()"
   ]
  },
  {
   "cell_type": "code",
   "execution_count": 6,
   "metadata": {},
   "outputs": [
    {
     "name": "stdout",
     "output_type": "stream",
     "text": [
      "root\n",
      " |-- mpg: double (nullable = true)\n",
      " |-- cylinders: integer (nullable = true)\n",
      " |-- displacement: double (nullable = true)\n",
      " |-- horsepower: float (nullable = true)\n",
      " |-- weight: integer (nullable = true)\n",
      " |-- acceleration: double (nullable = true)\n",
      " |-- year: integer (nullable = true)\n",
      " |-- origin: integer (nullable = true)\n",
      " |-- name: string (nullable = true)\n",
      "\n"
     ]
    }
   ],
   "source": [
    "df_auto.withColumn('horsepower', df_auto.horsepower.cast('float')).printSchema()"
   ]
  },
  {
   "cell_type": "code",
   "execution_count": 16,
   "metadata": {},
   "outputs": [
    {
     "name": "stdout",
     "output_type": "stream",
     "text": [
      "root\n",
      " |-- mpg: double (nullable = true)\n",
      " |-- cylinders: integer (nullable = true)\n",
      " |-- displacement: double (nullable = true)\n",
      " |-- horsepower: double (nullable = true)\n",
      " |-- weight: integer (nullable = true)\n",
      " |-- acceleration: double (nullable = true)\n",
      " |-- year: integer (nullable = true)\n",
      " |-- origin: integer (nullable = true)\n",
      " |-- name: string (nullable = true)\n",
      "\n"
     ]
    }
   ],
   "source": [
    "# With types objects\n",
    "df_auto.withColumn('horsepower', df_auto.horsepower.cast(types.DoubleType())).printSchema()"
   ]
  },
  {
   "cell_type": "code",
   "execution_count": 45,
   "metadata": {},
   "outputs": [
    {
     "name": "stdout",
     "output_type": "stream",
     "text": [
      "root\n",
      " |-- mpg: double (nullable = true)\n",
      " |-- cylinders: integer (nullable = true)\n",
      " |-- displacement: double (nullable = true)\n",
      " |-- horsepower: float (nullable = true)\n",
      " |-- weight: integer (nullable = true)\n",
      " |-- acceleration: double (nullable = true)\n",
      " |-- year: integer (nullable = true)\n",
      " |-- origin: integer (nullable = true)\n",
      " |-- name: string (nullable = true)\n",
      "\n"
     ]
    }
   ],
   "source": [
    "# With SQL expression\n",
    "df_auto.withColumn('horsepower', func.expr('cast(horsepower as float)')).printSchema()"
   ]
  },
  {
   "cell_type": "markdown",
   "metadata": {},
   "source": [
    "### Filtering"
   ]
  },
  {
   "cell_type": "code",
   "execution_count": 52,
   "metadata": {},
   "outputs": [
    {
     "name": "stdout",
     "output_type": "stream",
     "text": [
      "+----+---------+------------+----------+------+------------+----+------+--------------------+\n",
      "| mpg|cylinders|displacement|horsepower|weight|acceleration|year|origin|                name|\n",
      "+----+---------+------------+----------+------+------------+----+------+--------------------+\n",
      "|43.1|        4|        90.0|        48|  1985|        21.5|  78|     2|volkswagen rabbit...|\n",
      "|41.5|        4|        98.0|        76|  2144|        14.7|  80|     2|           vw rabbit|\n",
      "|46.6|        4|        86.0|        65|  2110|        17.9|  80|     3|           mazda glc|\n",
      "|40.8|        4|        85.0|        65|  2110|        19.2|  80|     3|          datsun 210|\n",
      "|44.3|        4|        90.0|        48|  2085|        21.7|  80|     2|vw rabbit c (diesel)|\n",
      "+----+---------+------------+----------+------+------------+----+------+--------------------+\n",
      "only showing top 5 rows\n",
      "\n"
     ]
    }
   ],
   "source": [
    "# Simple filter\n",
    "df_auto.where('mpg > 40').show(5)"
   ]
  },
  {
   "cell_type": "code",
   "execution_count": 75,
   "metadata": {},
   "outputs": [
    {
     "name": "stdout",
     "output_type": "stream",
     "text": [
      "+----+---------+------------+----------+------+------------+----+------+--------------------+\n",
      "| mpg|cylinders|displacement|horsepower|weight|acceleration|year|origin|                name|\n",
      "+----+---------+------------+----------+------+------------+----+------+--------------------+\n",
      "|43.1|        4|        90.0|        48|  1985|        21.5|  78|     2|volkswagen rabbit...|\n",
      "|41.5|        4|        98.0|        76|  2144|        14.7|  80|     2|           vw rabbit|\n",
      "|46.6|        4|        86.0|        65|  2110|        17.9|  80|     3|           mazda glc|\n",
      "|40.8|        4|        85.0|        65|  2110|        19.2|  80|     3|          datsun 210|\n",
      "|44.3|        4|        90.0|        48|  2085|        21.7|  80|     2|vw rabbit c (diesel)|\n",
      "+----+---------+------------+----------+------+------------+----+------+--------------------+\n",
      "only showing top 5 rows\n",
      "\n"
     ]
    }
   ],
   "source": [
    "# same with \"filer\"\n",
    "df_auto.filter('mpg > 40').show(5)"
   ]
  },
  {
   "cell_type": "code",
   "execution_count": 57,
   "metadata": {},
   "outputs": [
    {
     "name": "stdout",
     "output_type": "stream",
     "text": [
      "+----+---------+------------+----------+------+------------+----+------+--------------------+\n",
      "| mpg|cylinders|displacement|horsepower|weight|acceleration|year|origin|                name|\n",
      "+----+---------+------------+----------+------+------------+----+------+--------------------+\n",
      "|37.0|        4|       119.0|        92|  2434|        15.0|  80|     3|datsun 510 hatchback|\n",
      "|32.7|        6|       168.0|       132|  2910|        11.4|  80|     3|       datsun 280-zx|\n",
      "|32.9|        4|       119.0|       100|  2615|        14.8|  81|     3|        datsun 200sx|\n",
      "|32.0|        4|       144.0|        96|  2665|        13.9|  82|     3|    toyota celica gt|\n",
      "+----+---------+------------+----------+------+------------+----+------+--------------------+\n",
      "\n"
     ]
    }
   ],
   "source": [
    "# Multiple filter: use multiple where instead \"AND\"\n",
    "df_auto.where('mpg > 30') \\\n",
    "    .where('horsepower > 90') \\\n",
    "    .show(5)"
   ]
  },
  {
   "cell_type": "code",
   "execution_count": 14,
   "metadata": {},
   "outputs": [
    {
     "name": "stdout",
     "output_type": "stream",
     "text": [
      "+----+---------+------------+----------+------+------------+----+------+--------------------+\n",
      "| mpg|cylinders|displacement|horsepower|weight|acceleration|year|origin|                name|\n",
      "+----+---------+------------+----------+------+------------+----+------+--------------------+\n",
      "|24.0|        4|       113.0|        95|  2372|        15.0|  70|     3|toyota corona mar...|\n",
      "|27.0|        4|        97.0|        88|  2130|        14.5|  70|     3|        datsun pl510|\n",
      "|26.0|        4|        97.0|        46|  1835|        20.5|  70|     2|volkswagen 1131 d...|\n",
      "|25.0|        4|       110.0|        87|  2672|        17.5|  70|     2|         peugeot 504|\n",
      "|24.0|        4|       107.0|        90|  2430|        14.5|  70|     2|         audi 100 ls|\n",
      "+----+---------+------------+----------+------+------------+----+------+--------------------+\n",
      "only showing top 5 rows\n",
      "\n"
     ]
    }
   ],
   "source": [
    "# Equality comparison in expression as =\n",
    "df_auto.where(\"cylinders=4\").show(5)"
   ]
  },
  {
   "cell_type": "code",
   "execution_count": 15,
   "metadata": {},
   "outputs": [
    {
     "name": "stdout",
     "output_type": "stream",
     "text": [
      "+----+---------+------------+----------+------+------------+----+------+--------------------+\n",
      "| mpg|cylinders|displacement|horsepower|weight|acceleration|year|origin|                name|\n",
      "+----+---------+------------+----------+------+------------+----+------+--------------------+\n",
      "|24.0|        4|       113.0|        95|  2372|        15.0|  70|     3|toyota corona mar...|\n",
      "|27.0|        4|        97.0|        88|  2130|        14.5|  70|     3|        datsun pl510|\n",
      "|26.0|        4|        97.0|        46|  1835|        20.5|  70|     2|volkswagen 1131 d...|\n",
      "|25.0|        4|       110.0|        87|  2672|        17.5|  70|     2|         peugeot 504|\n",
      "|24.0|        4|       107.0|        90|  2430|        14.5|  70|     2|         audi 100 ls|\n",
      "+----+---------+------------+----------+------+------------+----+------+--------------------+\n",
      "only showing top 5 rows\n",
      "\n"
     ]
    }
   ],
   "source": [
    "# Equality comparison outside expression with ==\n",
    "df_auto.where(df_auto.cylinders==4).show(5)"
   ]
  },
  {
   "cell_type": "markdown",
   "metadata": {},
   "source": [
    "### Unique Rows"
   ]
  },
  {
   "cell_type": "code",
   "execution_count": 60,
   "metadata": {},
   "outputs": [
    {
     "name": "stdout",
     "output_type": "stream",
     "text": [
      "+--------------------+\n",
      "|                name|\n",
      "+--------------------+\n",
      "|         audi 100 ls|\n",
      "|pontiac sunbird c...|\n",
      "|       dodge rampage|\n",
      "|    chevrolet malibu|\n",
      "|chevrolet monte c...|\n",
      "+--------------------+\n",
      "only showing top 5 rows\n",
      "\n"
     ]
    }
   ],
   "source": [
    "df_auto.select('name').distinct().show(5)"
   ]
  },
  {
   "cell_type": "code",
   "execution_count": 61,
   "metadata": {},
   "outputs": [
    {
     "name": "stdout",
     "output_type": "stream",
     "text": [
      "+--------------------+----+\n",
      "|                name|year|\n",
      "+--------------------+----+\n",
      "|plymouth satellit...|  71|\n",
      "|       pontiac astro|  75|\n",
      "|        ford granada|  77|\n",
      "|    mercury capri v6|  73|\n",
      "|          datsun 710|  75|\n",
      "+--------------------+----+\n",
      "only showing top 5 rows\n",
      "\n"
     ]
    }
   ],
   "source": [
    "df_auto.select('name', 'year').distinct().show(5)"
   ]
  },
  {
   "cell_type": "code",
   "execution_count": 65,
   "metadata": {},
   "outputs": [
    {
     "data": {
      "text/plain": [
       "395"
      ]
     },
     "execution_count": 65,
     "metadata": {},
     "output_type": "execute_result"
    }
   ],
   "source": [
    "# Count distinct\n",
    "df_auto.select('name', 'year').distinct().count()"
   ]
  },
  {
   "cell_type": "markdown",
   "metadata": {},
   "source": [
    "### Random Sampling and Splitting"
   ]
  },
  {
   "cell_type": "code",
   "execution_count": 68,
   "metadata": {},
   "outputs": [
    {
     "name": "stdout",
     "output_type": "stream",
     "text": [
      "+----+---------+------------+----------+------+------------+----+------+--------------------+\n",
      "| mpg|cylinders|displacement|horsepower|weight|acceleration|year|origin|                name|\n",
      "+----+---------+------------+----------+------+------------+----+------+--------------------+\n",
      "|16.0|        8|       304.0|       150|  3433|        12.0|  70|     1|       amc rebel sst|\n",
      "|21.0|        6|       200.0|        85|  2587|        16.0|  70|     1|       ford maverick|\n",
      "|18.0|        6|       232.0|       100|  3288|        15.5|  71|     1|         amc matador|\n",
      "|35.0|        4|        72.0|        69|  1613|        18.0|  71|     3|         datsun 1200|\n",
      "|12.0|        8|       350.0|       160|  4456|        13.5|  72|     1|oldsmobile delta ...|\n",
      "+----+---------+------------+----------+------+------------+----+------+--------------------+\n",
      "only showing top 5 rows\n",
      "\n"
     ]
    }
   ],
   "source": [
    "# Random Sampling from the DataFrame\n",
    "seed=10\n",
    "withReplacement=None\n",
    "fraction=0.1\n",
    "df_auto.sample(withReplacement=withReplacement, seed=seed, fraction=fraction).show(5)"
   ]
  },
  {
   "cell_type": "code",
   "execution_count": 70,
   "metadata": {},
   "outputs": [],
   "source": [
    "# Random Split \n",
    "df_train, df_test = df_auto.randomSplit([0.8, 0.2], seed=seed)"
   ]
  },
  {
   "cell_type": "code",
   "execution_count": 71,
   "metadata": {},
   "outputs": [
    {
     "data": {
      "text/plain": [
       "316"
      ]
     },
     "execution_count": 71,
     "metadata": {},
     "output_type": "execute_result"
    }
   ],
   "source": [
    "df_train.count()"
   ]
  },
  {
   "cell_type": "code",
   "execution_count": 72,
   "metadata": {},
   "outputs": [
    {
     "data": {
      "text/plain": [
       "81"
      ]
     },
     "execution_count": 72,
     "metadata": {},
     "output_type": "execute_result"
    }
   ],
   "source": [
    "df_test.count()"
   ]
  },
  {
   "cell_type": "markdown",
   "metadata": {},
   "source": [
    "### Union"
   ]
  },
  {
   "cell_type": "code",
   "execution_count": 73,
   "metadata": {},
   "outputs": [],
   "source": [
    "# DataFrames are immutable, so append not possible\n",
    "df_new = df_train.union(df_test)"
   ]
  },
  {
   "cell_type": "code",
   "execution_count": 74,
   "metadata": {},
   "outputs": [
    {
     "data": {
      "text/plain": [
       "397"
      ]
     },
     "execution_count": 74,
     "metadata": {},
     "output_type": "execute_result"
    }
   ],
   "source": [
    "df_new.count()"
   ]
  },
  {
   "cell_type": "markdown",
   "metadata": {},
   "source": [
    "### Sorting"
   ]
  },
  {
   "cell_type": "code",
   "execution_count": 77,
   "metadata": {},
   "outputs": [
    {
     "name": "stdout",
     "output_type": "stream",
     "text": [
      "+--------------------+---------------+\n",
      "|             carname|litre_per_100km|\n",
      "+--------------------+---------------+\n",
      "|           mazda glc|           5.04|\n",
      "| honda civic 1500 gl|           5.27|\n",
      "|vw rabbit c (diesel)|            5.3|\n",
      "|           vw pickup|           5.34|\n",
      "|  vw dasher (diesel)|           5.41|\n",
      "+--------------------+---------------+\n",
      "only showing top 5 rows\n",
      "\n"
     ]
    }
   ],
   "source": [
    "# Sorting with \"sort\" or \"orderBy\" (no difference)\n",
    "df_auto.selectExpr('name as carname',\n",
    "                  'round(235/mpg,2) as litre_per_100km') \\\n",
    "    .sort('litre_per_100km') \\\n",
    "    .show(5)"
   ]
  },
  {
   "cell_type": "code",
   "execution_count": 79,
   "metadata": {},
   "outputs": [
    {
     "name": "stdout",
     "output_type": "stream",
     "text": [
      "+---------------+---------------+\n",
      "|        carname|litre_per_100km|\n",
      "+---------------+---------------+\n",
      "|       hi 1200d|          26.11|\n",
      "|      ford f250|           23.5|\n",
      "|      chevy c20|           23.5|\n",
      "|     dodge d200|          21.36|\n",
      "|mercury marquis|          21.36|\n",
      "+---------------+---------------+\n",
      "only showing top 5 rows\n",
      "\n"
     ]
    }
   ],
   "source": [
    "# Sort desc\n",
    "df_auto.selectExpr('name as carname',\n",
    "                  'round(235/mpg,2) as litre_per_100km') \\\n",
    "    .sort(func.desc('litre_per_100km')) \\\n",
    "    .show(5)"
   ]
  },
  {
   "cell_type": "markdown",
   "metadata": {},
   "source": [
    "### Actions"
   ]
  },
  {
   "cell_type": "code",
   "execution_count": 86,
   "metadata": {},
   "outputs": [
    {
     "name": "stdout",
     "output_type": "stream",
     "text": [
      "+----+---------+------------+----------+------+------------+----+------+--------------------+\n",
      "| mpg|cylinders|displacement|horsepower|weight|acceleration|year|origin|                name|\n",
      "+----+---------+------------+----------+------+------------+----+------+--------------------+\n",
      "|18.0|        8|       307.0|       130|  3504|        12.0|  70|     1|chevrolet chevell...|\n",
      "|15.0|        8|       350.0|       165|  3693|        11.5|  70|     1|   buick skylark 320|\n",
      "+----+---------+------------+----------+------+------------+----+------+--------------------+\n",
      "only showing top 2 rows\n",
      "\n"
     ]
    }
   ],
   "source": [
    "# show to print n number of rows\n",
    "df_auto.show(2)"
   ]
  },
  {
   "cell_type": "code",
   "execution_count": 87,
   "metadata": {},
   "outputs": [
    {
     "data": {
      "text/plain": [
       "[Row(mpg=18.0, cylinders=8, displacement=307.0, horsepower='130', weight=3504, acceleration=12.0, year=70, origin=1, name='chevrolet chevelle malibu'),\n",
       " Row(mpg=15.0, cylinders=8, displacement=350.0, horsepower='165', weight=3693, acceleration=11.5, year=70, origin=1, name='buick skylark 320')]"
      ]
     },
     "execution_count": 87,
     "metadata": {},
     "output_type": "execute_result"
    }
   ],
   "source": [
    "# take to get n rows as spark rows\n",
    "df_auto.take(2)"
   ]
  },
  {
   "cell_type": "code",
   "execution_count": 88,
   "metadata": {},
   "outputs": [
    {
     "data": {
      "text/plain": [
       "15.0"
      ]
     },
     "execution_count": 88,
     "metadata": {},
     "output_type": "execute_result"
    }
   ],
   "source": [
    "# Get mpg from second row\n",
    "df_auto.take(2)[1].mpg"
   ]
  },
  {
   "cell_type": "code",
   "execution_count": 90,
   "metadata": {},
   "outputs": [],
   "source": [
    "# Get all data with collect\n",
    "# df_auto.collect()"
   ]
  }
 ],
 "metadata": {
  "kernelspec": {
   "display_name": "Python 3",
   "language": "python",
   "name": "python3"
  },
  "language_info": {
   "codemirror_mode": {
    "name": "ipython",
    "version": 3
   },
   "file_extension": ".py",
   "mimetype": "text/x-python",
   "name": "python",
   "nbconvert_exporter": "python",
   "pygments_lexer": "ipython3",
   "version": "3.7.6"
  }
 },
 "nbformat": 4,
 "nbformat_minor": 4
}
