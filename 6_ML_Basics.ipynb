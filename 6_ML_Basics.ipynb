{
 "cells": [
  {
   "cell_type": "markdown",
   "metadata": {},
   "source": [
    "# Spark Machine Learning Basics"
   ]
  },
  {
   "cell_type": "code",
   "execution_count": 7,
   "metadata": {},
   "outputs": [],
   "source": [
    "import pyspark\n",
    "from pyspark.sql import SparkSession\n",
    "import pyspark.ml as ml\n",
    "import pyspark.sql.functions as spark_f\n",
    "import pyspark.sql.types as spark_types\n",
    "import pandas as pd\n",
    "import matplotlib.pyplot as plt\n",
    "import seaborn as sns\n",
    "import numpy as np\n",
    "import pandas as pd"
   ]
  },
  {
   "cell_type": "code",
   "execution_count": 187,
   "metadata": {},
   "outputs": [],
   "source": [
    "spark = SparkSession.builder.appName('Spark Test App').getOrCreate() \n",
    "sc = spark.sparkContext"
   ]
  },
  {
   "cell_type": "code",
   "execution_count": 188,
   "metadata": {},
   "outputs": [
    {
     "name": "stdout",
     "output_type": "stream",
     "text": [
      "+---+---+---+--------------------+-----------+\n",
      "|  x|  y|  z|              source|      class|\n",
      "+---+---+---+--------------------+-----------+\n",
      "| 22| 49| 35|Accelerometer-201...|Brush_teeth|\n",
      "| 22| 49| 35|Accelerometer-201...|Brush_teeth|\n",
      "| 22| 52| 35|Accelerometer-201...|Brush_teeth|\n",
      "| 22| 52| 35|Accelerometer-201...|Brush_teeth|\n",
      "| 21| 52| 34|Accelerometer-201...|Brush_teeth|\n",
      "| 22| 51| 34|Accelerometer-201...|Brush_teeth|\n",
      "| 20| 50| 35|Accelerometer-201...|Brush_teeth|\n",
      "| 22| 52| 34|Accelerometer-201...|Brush_teeth|\n",
      "| 22| 50| 34|Accelerometer-201...|Brush_teeth|\n",
      "| 22| 51| 35|Accelerometer-201...|Brush_teeth|\n",
      "| 21| 51| 33|Accelerometer-201...|Brush_teeth|\n",
      "| 20| 50| 34|Accelerometer-201...|Brush_teeth|\n",
      "| 21| 49| 33|Accelerometer-201...|Brush_teeth|\n",
      "| 21| 49| 33|Accelerometer-201...|Brush_teeth|\n",
      "| 20| 51| 35|Accelerometer-201...|Brush_teeth|\n",
      "| 18| 49| 34|Accelerometer-201...|Brush_teeth|\n",
      "| 19| 48| 34|Accelerometer-201...|Brush_teeth|\n",
      "| 16| 53| 34|Accelerometer-201...|Brush_teeth|\n",
      "| 18| 52| 35|Accelerometer-201...|Brush_teeth|\n",
      "| 18| 51| 32|Accelerometer-201...|Brush_teeth|\n",
      "+---+---+---+--------------------+-----------+\n",
      "only showing top 20 rows\n",
      "\n"
     ]
    }
   ],
   "source": [
    "# read some test data\n",
    "df = spark.read.parquet('hmp.parquet')\n",
    "df.show()"
   ]
  },
  {
   "cell_type": "code",
   "execution_count": 189,
   "metadata": {},
   "outputs": [
    {
     "data": {
      "text/plain": [
       "446529"
      ]
     },
     "execution_count": 189,
     "metadata": {},
     "output_type": "execute_result"
    }
   ],
   "source": [
    "df.count()"
   ]
  },
  {
   "cell_type": "markdown",
   "metadata": {},
   "source": [
    "### Preprocessing Steps"
   ]
  },
  {
   "cell_type": "code",
   "execution_count": 190,
   "metadata": {},
   "outputs": [
    {
     "name": "stdout",
     "output_type": "stream",
     "text": [
      "+---+---+---+--------------------+-----------+----------+\n",
      "|  x|  y|  z|              source|      class|classIndex|\n",
      "+---+---+---+--------------------+-----------+----------+\n",
      "| 22| 49| 35|Accelerometer-201...|Brush_teeth|       6.0|\n",
      "| 22| 49| 35|Accelerometer-201...|Brush_teeth|       6.0|\n",
      "| 22| 52| 35|Accelerometer-201...|Brush_teeth|       6.0|\n",
      "| 22| 52| 35|Accelerometer-201...|Brush_teeth|       6.0|\n",
      "| 21| 52| 34|Accelerometer-201...|Brush_teeth|       6.0|\n",
      "| 22| 51| 34|Accelerometer-201...|Brush_teeth|       6.0|\n",
      "| 20| 50| 35|Accelerometer-201...|Brush_teeth|       6.0|\n",
      "| 22| 52| 34|Accelerometer-201...|Brush_teeth|       6.0|\n",
      "| 22| 50| 34|Accelerometer-201...|Brush_teeth|       6.0|\n",
      "| 22| 51| 35|Accelerometer-201...|Brush_teeth|       6.0|\n",
      "| 21| 51| 33|Accelerometer-201...|Brush_teeth|       6.0|\n",
      "| 20| 50| 34|Accelerometer-201...|Brush_teeth|       6.0|\n",
      "| 21| 49| 33|Accelerometer-201...|Brush_teeth|       6.0|\n",
      "| 21| 49| 33|Accelerometer-201...|Brush_teeth|       6.0|\n",
      "| 20| 51| 35|Accelerometer-201...|Brush_teeth|       6.0|\n",
      "| 18| 49| 34|Accelerometer-201...|Brush_teeth|       6.0|\n",
      "| 19| 48| 34|Accelerometer-201...|Brush_teeth|       6.0|\n",
      "| 16| 53| 34|Accelerometer-201...|Brush_teeth|       6.0|\n",
      "| 18| 52| 35|Accelerometer-201...|Brush_teeth|       6.0|\n",
      "| 18| 51| 32|Accelerometer-201...|Brush_teeth|       6.0|\n",
      "+---+---+---+--------------------+-----------+----------+\n",
      "only showing top 20 rows\n",
      "\n"
     ]
    }
   ],
   "source": [
    "# Encode class as a number\n",
    "indexer=ml.feature.StringIndexer(inputCol='class', outputCol='classIndex')\n",
    "df_indexed=indexer.fit(df).transform(df)\n",
    "df_indexed.show()"
   ]
  },
  {
   "cell_type": "code",
   "execution_count": 191,
   "metadata": {},
   "outputs": [
    {
     "name": "stdout",
     "output_type": "stream",
     "text": [
      "+---+---+---+--------------------+-----------+----------+--------------+\n",
      "|  x|  y|  z|              source|      class|classIndex|   classVector|\n",
      "+---+---+---+--------------------+-----------+----------+--------------+\n",
      "| 22| 49| 35|Accelerometer-201...|Brush_teeth|       6.0|(13,[6],[1.0])|\n",
      "| 22| 49| 35|Accelerometer-201...|Brush_teeth|       6.0|(13,[6],[1.0])|\n",
      "| 22| 52| 35|Accelerometer-201...|Brush_teeth|       6.0|(13,[6],[1.0])|\n",
      "| 22| 52| 35|Accelerometer-201...|Brush_teeth|       6.0|(13,[6],[1.0])|\n",
      "| 21| 52| 34|Accelerometer-201...|Brush_teeth|       6.0|(13,[6],[1.0])|\n",
      "| 22| 51| 34|Accelerometer-201...|Brush_teeth|       6.0|(13,[6],[1.0])|\n",
      "| 20| 50| 35|Accelerometer-201...|Brush_teeth|       6.0|(13,[6],[1.0])|\n",
      "| 22| 52| 34|Accelerometer-201...|Brush_teeth|       6.0|(13,[6],[1.0])|\n",
      "| 22| 50| 34|Accelerometer-201...|Brush_teeth|       6.0|(13,[6],[1.0])|\n",
      "| 22| 51| 35|Accelerometer-201...|Brush_teeth|       6.0|(13,[6],[1.0])|\n",
      "| 21| 51| 33|Accelerometer-201...|Brush_teeth|       6.0|(13,[6],[1.0])|\n",
      "| 20| 50| 34|Accelerometer-201...|Brush_teeth|       6.0|(13,[6],[1.0])|\n",
      "| 21| 49| 33|Accelerometer-201...|Brush_teeth|       6.0|(13,[6],[1.0])|\n",
      "| 21| 49| 33|Accelerometer-201...|Brush_teeth|       6.0|(13,[6],[1.0])|\n",
      "| 20| 51| 35|Accelerometer-201...|Brush_teeth|       6.0|(13,[6],[1.0])|\n",
      "| 18| 49| 34|Accelerometer-201...|Brush_teeth|       6.0|(13,[6],[1.0])|\n",
      "| 19| 48| 34|Accelerometer-201...|Brush_teeth|       6.0|(13,[6],[1.0])|\n",
      "| 16| 53| 34|Accelerometer-201...|Brush_teeth|       6.0|(13,[6],[1.0])|\n",
      "| 18| 52| 35|Accelerometer-201...|Brush_teeth|       6.0|(13,[6],[1.0])|\n",
      "| 18| 51| 32|Accelerometer-201...|Brush_teeth|       6.0|(13,[6],[1.0])|\n",
      "+---+---+---+--------------------+-----------+----------+--------------+\n",
      "only showing top 20 rows\n",
      "\n"
     ]
    }
   ],
   "source": [
    "# One-hot-encoding the class\n",
    "encoder=ml.feature.OneHotEncoderEstimator(inputCols=['classIndex'], outputCols=['classVector'])\n",
    "df_enc=encoder.fit(df_indexed).transform(df_indexed)\n",
    "df_enc.show()"
   ]
  },
  {
   "cell_type": "code",
   "execution_count": 192,
   "metadata": {},
   "outputs": [
    {
     "name": "stdout",
     "output_type": "stream",
     "text": [
      "+---+---+---+--------------------+-----------+----------+--------------+----------------+\n",
      "|  x|  y|  z|              source|      class|classIndex|   classVector|        features|\n",
      "+---+---+---+--------------------+-----------+----------+--------------+----------------+\n",
      "| 22| 49| 35|Accelerometer-201...|Brush_teeth|       6.0|(13,[6],[1.0])|[22.0,49.0,35.0]|\n",
      "| 22| 49| 35|Accelerometer-201...|Brush_teeth|       6.0|(13,[6],[1.0])|[22.0,49.0,35.0]|\n",
      "| 22| 52| 35|Accelerometer-201...|Brush_teeth|       6.0|(13,[6],[1.0])|[22.0,52.0,35.0]|\n",
      "| 22| 52| 35|Accelerometer-201...|Brush_teeth|       6.0|(13,[6],[1.0])|[22.0,52.0,35.0]|\n",
      "| 21| 52| 34|Accelerometer-201...|Brush_teeth|       6.0|(13,[6],[1.0])|[21.0,52.0,34.0]|\n",
      "| 22| 51| 34|Accelerometer-201...|Brush_teeth|       6.0|(13,[6],[1.0])|[22.0,51.0,34.0]|\n",
      "| 20| 50| 35|Accelerometer-201...|Brush_teeth|       6.0|(13,[6],[1.0])|[20.0,50.0,35.0]|\n",
      "| 22| 52| 34|Accelerometer-201...|Brush_teeth|       6.0|(13,[6],[1.0])|[22.0,52.0,34.0]|\n",
      "| 22| 50| 34|Accelerometer-201...|Brush_teeth|       6.0|(13,[6],[1.0])|[22.0,50.0,34.0]|\n",
      "| 22| 51| 35|Accelerometer-201...|Brush_teeth|       6.0|(13,[6],[1.0])|[22.0,51.0,35.0]|\n",
      "| 21| 51| 33|Accelerometer-201...|Brush_teeth|       6.0|(13,[6],[1.0])|[21.0,51.0,33.0]|\n",
      "| 20| 50| 34|Accelerometer-201...|Brush_teeth|       6.0|(13,[6],[1.0])|[20.0,50.0,34.0]|\n",
      "| 21| 49| 33|Accelerometer-201...|Brush_teeth|       6.0|(13,[6],[1.0])|[21.0,49.0,33.0]|\n",
      "| 21| 49| 33|Accelerometer-201...|Brush_teeth|       6.0|(13,[6],[1.0])|[21.0,49.0,33.0]|\n",
      "| 20| 51| 35|Accelerometer-201...|Brush_teeth|       6.0|(13,[6],[1.0])|[20.0,51.0,35.0]|\n",
      "| 18| 49| 34|Accelerometer-201...|Brush_teeth|       6.0|(13,[6],[1.0])|[18.0,49.0,34.0]|\n",
      "| 19| 48| 34|Accelerometer-201...|Brush_teeth|       6.0|(13,[6],[1.0])|[19.0,48.0,34.0]|\n",
      "| 16| 53| 34|Accelerometer-201...|Brush_teeth|       6.0|(13,[6],[1.0])|[16.0,53.0,34.0]|\n",
      "| 18| 52| 35|Accelerometer-201...|Brush_teeth|       6.0|(13,[6],[1.0])|[18.0,52.0,35.0]|\n",
      "| 18| 51| 32|Accelerometer-201...|Brush_teeth|       6.0|(13,[6],[1.0])|[18.0,51.0,32.0]|\n",
      "+---+---+---+--------------------+-----------+----------+--------------+----------------+\n",
      "only showing top 20 rows\n",
      "\n"
     ]
    }
   ],
   "source": [
    "# Create Vector from columns x,y,z\n",
    "vec_assembler=ml.feature.VectorAssembler(inputCols=['x', 'y', 'z'], outputCol='features')\n",
    "df_vec=vec_assembler.transform(df_enc)\n",
    "df_vec.show()"
   ]
  },
  {
   "cell_type": "markdown",
   "metadata": {},
   "source": [
    "### Using Spark Pipelines"
   ]
  },
  {
   "cell_type": "code",
   "execution_count": 193,
   "metadata": {},
   "outputs": [],
   "source": [
    "# Instead of conducting each step manually, gather steps into a pipeline\n",
    "pipeline=ml.pipeline.Pipeline(stages=[indexer, encoder, vec_assembler])"
   ]
  },
  {
   "cell_type": "code",
   "execution_count": 194,
   "metadata": {},
   "outputs": [],
   "source": [
    "model=pipeline.fit(df)"
   ]
  },
  {
   "cell_type": "code",
   "execution_count": 195,
   "metadata": {},
   "outputs": [],
   "source": [
    "prediction=model.transform(df)"
   ]
  },
  {
   "cell_type": "code",
   "execution_count": 196,
   "metadata": {},
   "outputs": [
    {
     "name": "stdout",
     "output_type": "stream",
     "text": [
      "+---+---+---+--------------------+-----------+----------+--------------+----------------+\n",
      "|  x|  y|  z|              source|      class|classIndex|   classVector|        features|\n",
      "+---+---+---+--------------------+-----------+----------+--------------+----------------+\n",
      "| 22| 49| 35|Accelerometer-201...|Brush_teeth|       6.0|(13,[6],[1.0])|[22.0,49.0,35.0]|\n",
      "| 22| 49| 35|Accelerometer-201...|Brush_teeth|       6.0|(13,[6],[1.0])|[22.0,49.0,35.0]|\n",
      "| 22| 52| 35|Accelerometer-201...|Brush_teeth|       6.0|(13,[6],[1.0])|[22.0,52.0,35.0]|\n",
      "| 22| 52| 35|Accelerometer-201...|Brush_teeth|       6.0|(13,[6],[1.0])|[22.0,52.0,35.0]|\n",
      "| 21| 52| 34|Accelerometer-201...|Brush_teeth|       6.0|(13,[6],[1.0])|[21.0,52.0,34.0]|\n",
      "| 22| 51| 34|Accelerometer-201...|Brush_teeth|       6.0|(13,[6],[1.0])|[22.0,51.0,34.0]|\n",
      "| 20| 50| 35|Accelerometer-201...|Brush_teeth|       6.0|(13,[6],[1.0])|[20.0,50.0,35.0]|\n",
      "| 22| 52| 34|Accelerometer-201...|Brush_teeth|       6.0|(13,[6],[1.0])|[22.0,52.0,34.0]|\n",
      "| 22| 50| 34|Accelerometer-201...|Brush_teeth|       6.0|(13,[6],[1.0])|[22.0,50.0,34.0]|\n",
      "| 22| 51| 35|Accelerometer-201...|Brush_teeth|       6.0|(13,[6],[1.0])|[22.0,51.0,35.0]|\n",
      "| 21| 51| 33|Accelerometer-201...|Brush_teeth|       6.0|(13,[6],[1.0])|[21.0,51.0,33.0]|\n",
      "| 20| 50| 34|Accelerometer-201...|Brush_teeth|       6.0|(13,[6],[1.0])|[20.0,50.0,34.0]|\n",
      "| 21| 49| 33|Accelerometer-201...|Brush_teeth|       6.0|(13,[6],[1.0])|[21.0,49.0,33.0]|\n",
      "| 21| 49| 33|Accelerometer-201...|Brush_teeth|       6.0|(13,[6],[1.0])|[21.0,49.0,33.0]|\n",
      "| 20| 51| 35|Accelerometer-201...|Brush_teeth|       6.0|(13,[6],[1.0])|[20.0,51.0,35.0]|\n",
      "| 18| 49| 34|Accelerometer-201...|Brush_teeth|       6.0|(13,[6],[1.0])|[18.0,49.0,34.0]|\n",
      "| 19| 48| 34|Accelerometer-201...|Brush_teeth|       6.0|(13,[6],[1.0])|[19.0,48.0,34.0]|\n",
      "| 16| 53| 34|Accelerometer-201...|Brush_teeth|       6.0|(13,[6],[1.0])|[16.0,53.0,34.0]|\n",
      "| 18| 52| 35|Accelerometer-201...|Brush_teeth|       6.0|(13,[6],[1.0])|[18.0,52.0,35.0]|\n",
      "| 18| 51| 32|Accelerometer-201...|Brush_teeth|       6.0|(13,[6],[1.0])|[18.0,51.0,32.0]|\n",
      "+---+---+---+--------------------+-----------+----------+--------------+----------------+\n",
      "only showing top 20 rows\n",
      "\n"
     ]
    }
   ],
   "source": [
    "prediction.show()"
   ]
  },
  {
   "cell_type": "markdown",
   "metadata": {},
   "source": [
    "**-> Same result as with single steps**"
   ]
  },
  {
   "cell_type": "code",
   "execution_count": 197,
   "metadata": {},
   "outputs": [
    {
     "name": "stdout",
     "output_type": "stream",
     "text": [
      "+--------------+----------------+\n",
      "|   classVector|        features|\n",
      "+--------------+----------------+\n",
      "|(13,[6],[1.0])|[22.0,49.0,35.0]|\n",
      "|(13,[6],[1.0])|[22.0,49.0,35.0]|\n",
      "|(13,[6],[1.0])|[22.0,52.0,35.0]|\n",
      "|(13,[6],[1.0])|[22.0,52.0,35.0]|\n",
      "|(13,[6],[1.0])|[21.0,52.0,34.0]|\n",
      "|(13,[6],[1.0])|[22.0,51.0,34.0]|\n",
      "|(13,[6],[1.0])|[20.0,50.0,35.0]|\n",
      "|(13,[6],[1.0])|[22.0,52.0,34.0]|\n",
      "|(13,[6],[1.0])|[22.0,50.0,34.0]|\n",
      "|(13,[6],[1.0])|[22.0,51.0,35.0]|\n",
      "|(13,[6],[1.0])|[21.0,51.0,33.0]|\n",
      "|(13,[6],[1.0])|[20.0,50.0,34.0]|\n",
      "|(13,[6],[1.0])|[21.0,49.0,33.0]|\n",
      "|(13,[6],[1.0])|[21.0,49.0,33.0]|\n",
      "|(13,[6],[1.0])|[20.0,51.0,35.0]|\n",
      "|(13,[6],[1.0])|[18.0,49.0,34.0]|\n",
      "|(13,[6],[1.0])|[19.0,48.0,34.0]|\n",
      "|(13,[6],[1.0])|[16.0,53.0,34.0]|\n",
      "|(13,[6],[1.0])|[18.0,52.0,35.0]|\n",
      "|(13,[6],[1.0])|[18.0,51.0,32.0]|\n",
      "+--------------+----------------+\n",
      "only showing top 20 rows\n",
      "\n"
     ]
    }
   ],
   "source": [
    "df_train=prediction.drop('x', 'y', 'z', 'source', 'class', 'classIndex')\n",
    "df_train.show()"
   ]
  },
  {
   "cell_type": "markdown",
   "metadata": {},
   "source": [
    "### k-Means Clustering"
   ]
  },
  {
   "cell_type": "code",
   "execution_count": 198,
   "metadata": {},
   "outputs": [],
   "source": [
    "kmeans=ml.clustering.KMeans(k=13, seed=1, featuresCol='features')\n",
    "pipeline=ml.pipeline.Pipeline(stages=[vec_assembler, kmeans])\n",
    "model=pipeline.fit(df)\n",
    "prediction=model.transform(df)"
   ]
  },
  {
   "cell_type": "code",
   "execution_count": 39,
   "metadata": {},
   "outputs": [
    {
     "name": "stdout",
     "output_type": "stream",
     "text": [
      "+---+---+---+--------------------+-----------+----------------+----------+\n",
      "|  x|  y|  z|              source|      class|        features|prediction|\n",
      "+---+---+---+--------------------+-----------+----------------+----------+\n",
      "| 22| 49| 35|Accelerometer-201...|Brush_teeth|[22.0,49.0,35.0]|         7|\n",
      "| 22| 49| 35|Accelerometer-201...|Brush_teeth|[22.0,49.0,35.0]|         7|\n",
      "| 22| 52| 35|Accelerometer-201...|Brush_teeth|[22.0,52.0,35.0]|         7|\n",
      "| 22| 52| 35|Accelerometer-201...|Brush_teeth|[22.0,52.0,35.0]|         7|\n",
      "| 21| 52| 34|Accelerometer-201...|Brush_teeth|[21.0,52.0,34.0]|         7|\n",
      "| 22| 51| 34|Accelerometer-201...|Brush_teeth|[22.0,51.0,34.0]|         7|\n",
      "| 20| 50| 35|Accelerometer-201...|Brush_teeth|[20.0,50.0,35.0]|         7|\n",
      "| 22| 52| 34|Accelerometer-201...|Brush_teeth|[22.0,52.0,34.0]|         7|\n",
      "| 22| 50| 34|Accelerometer-201...|Brush_teeth|[22.0,50.0,34.0]|         7|\n",
      "| 22| 51| 35|Accelerometer-201...|Brush_teeth|[22.0,51.0,35.0]|         7|\n",
      "| 21| 51| 33|Accelerometer-201...|Brush_teeth|[21.0,51.0,33.0]|         7|\n",
      "| 20| 50| 34|Accelerometer-201...|Brush_teeth|[20.0,50.0,34.0]|         7|\n",
      "| 21| 49| 33|Accelerometer-201...|Brush_teeth|[21.0,49.0,33.0]|         7|\n",
      "| 21| 49| 33|Accelerometer-201...|Brush_teeth|[21.0,49.0,33.0]|         7|\n",
      "| 20| 51| 35|Accelerometer-201...|Brush_teeth|[20.0,51.0,35.0]|         7|\n",
      "| 18| 49| 34|Accelerometer-201...|Brush_teeth|[18.0,49.0,34.0]|         7|\n",
      "| 19| 48| 34|Accelerometer-201...|Brush_teeth|[19.0,48.0,34.0]|         7|\n",
      "| 16| 53| 34|Accelerometer-201...|Brush_teeth|[16.0,53.0,34.0]|         7|\n",
      "| 18| 52| 35|Accelerometer-201...|Brush_teeth|[18.0,52.0,35.0]|         7|\n",
      "| 18| 51| 32|Accelerometer-201...|Brush_teeth|[18.0,51.0,32.0]|         7|\n",
      "+---+---+---+--------------------+-----------+----------------+----------+\n",
      "only showing top 20 rows\n",
      "\n"
     ]
    }
   ],
   "source": [
    "prediction.show()"
   ]
  },
  {
   "cell_type": "code",
   "execution_count": 40,
   "metadata": {},
   "outputs": [
    {
     "data": {
      "text/plain": [
       "0.4153293521373778"
      ]
     },
     "execution_count": 40,
     "metadata": {},
     "output_type": "execute_result"
    }
   ],
   "source": [
    "# Evaluate\n",
    "evaluator = ml.evaluation.ClusteringEvaluator()\n",
    "evaluator.evaluate(prediction)"
   ]
  },
  {
   "cell_type": "code",
   "execution_count": 46,
   "metadata": {},
   "outputs": [],
   "source": [
    "# Evaluate for different values of k\n",
    "eval_results=[]\n",
    "for k in range(2,20):\n",
    "    kmeans=ml.clustering.KMeans(k=k, seed=1, featuresCol='features')\n",
    "    pipeline=ml.pipeline.Pipeline(stages=[vec_assembler, kmeans])\n",
    "    model=pipeline.fit(df)\n",
    "    prediction=model.transform(df)\n",
    "    evaluator = ml.evaluation.ClusteringEvaluator()\n",
    "    eval_results.append((k, evaluator.evaluate(prediction)))"
   ]
  },
  {
   "cell_type": "code",
   "execution_count": 47,
   "metadata": {},
   "outputs": [
    {
     "data": {
      "text/plain": [
       "[(2, 0.6875664014387497),\n",
       " (3, 0.6147915951361759),\n",
       " (4, 0.6333227654128869),\n",
       " (5, 0.5937447997439024),\n",
       " (6, 0.592463658820136),\n",
       " (7, 0.5484627422401509),\n",
       " (8, 0.46686489256383346),\n",
       " (9, 0.48034893889849645),\n",
       " (10, 0.47370428136987536),\n",
       " (11, 0.4819049717562352),\n",
       " (12, 0.40964155503229643),\n",
       " (13, 0.4153293521373778),\n",
       " (14, 0.41244594513295846),\n",
       " (15, 0.41771495579360896),\n",
       " (16, 0.39594610810727193),\n",
       " (17, 0.40512075095291467),\n",
       " (18, 0.4058090075137995),\n",
       " (19, 0.3794290531790819)]"
      ]
     },
     "execution_count": 47,
     "metadata": {},
     "output_type": "execute_result"
    }
   ],
   "source": [
    "eval_results"
   ]
  },
  {
   "cell_type": "markdown",
   "metadata": {},
   "source": [
    "### Linear Regression with Spark ML"
   ]
  },
  {
   "cell_type": "code",
   "execution_count": 50,
   "metadata": {},
   "outputs": [
    {
     "name": "stdout",
     "output_type": "stream",
     "text": [
      "+---+-----+-----+---------+-----+\n",
      "|_c0|   TV|Radio|Newspaper|Sales|\n",
      "+---+-----+-----+---------+-----+\n",
      "|  1|230.1| 37.8|     69.2| 22.1|\n",
      "|  2| 44.5| 39.3|     45.1| 10.4|\n",
      "|  3| 17.2| 45.9|     69.3|  9.3|\n",
      "|  4|151.5| 41.3|     58.5| 18.5|\n",
      "|  5|180.8| 10.8|     58.4| 12.9|\n",
      "+---+-----+-----+---------+-----+\n",
      "only showing top 5 rows\n",
      "\n"
     ]
    }
   ],
   "source": [
    "df_ad = spark.read.csv('../Stat_Learning/data/Advertising.csv', header=True, inferSchema=True)\n",
    "df_ad.show(5)"
   ]
  },
  {
   "cell_type": "code",
   "execution_count": 52,
   "metadata": {},
   "outputs": [
    {
     "name": "stdout",
     "output_type": "stream",
     "text": [
      "+-----+-----+---------+-----+\n",
      "|   TV|Radio|Newspaper|Sales|\n",
      "+-----+-----+---------+-----+\n",
      "|230.1| 37.8|     69.2| 22.1|\n",
      "| 44.5| 39.3|     45.1| 10.4|\n",
      "| 17.2| 45.9|     69.3|  9.3|\n",
      "|151.5| 41.3|     58.5| 18.5|\n",
      "|180.8| 10.8|     58.4| 12.9|\n",
      "+-----+-----+---------+-----+\n",
      "only showing top 5 rows\n",
      "\n"
     ]
    }
   ],
   "source": [
    "df_ad=df_ad.drop('_c0')\n",
    "df_ad.show(5)"
   ]
  },
  {
   "cell_type": "code",
   "execution_count": 93,
   "metadata": {},
   "outputs": [],
   "source": [
    "# Gather features in vector\n",
    "vec_assembler_ad=ml.feature.VectorAssembler(inputCols=['TV', 'Radio', 'Newspaper'], outputCol='features')"
   ]
  },
  {
   "cell_type": "code",
   "execution_count": 65,
   "metadata": {},
   "outputs": [],
   "source": [
    "# Linear Regression Model in Spark\n",
    "lr=ml.regression.LinearRegression(labelCol='Sales')"
   ]
  },
  {
   "cell_type": "code",
   "execution_count": 94,
   "metadata": {},
   "outputs": [],
   "source": [
    "# Create pipeline\n",
    "pipeline=ml.pipeline.Pipeline(stages=[vec_assembler_ad, lr])"
   ]
  },
  {
   "cell_type": "code",
   "execution_count": 95,
   "metadata": {},
   "outputs": [],
   "source": [
    "# Fit Pipeline Model\n",
    "model=pipeline.fit(df_ad)"
   ]
  },
  {
   "cell_type": "code",
   "execution_count": 96,
   "metadata": {},
   "outputs": [
    {
     "data": {
      "text/plain": [
       "[VectorAssembler_293fdd7f8d71, LinearRegression_6f497c8560f9]"
      ]
     },
     "execution_count": 96,
     "metadata": {},
     "output_type": "execute_result"
    }
   ],
   "source": [
    "# Access individual fitted models\n",
    "model.stages"
   ]
  },
  {
   "cell_type": "code",
   "execution_count": 97,
   "metadata": {},
   "outputs": [
    {
     "data": {
      "text/plain": [
       "DenseVector([0.0458, 0.1885, -0.001])"
      ]
     },
     "execution_count": 97,
     "metadata": {},
     "output_type": "execute_result"
    }
   ],
   "source": [
    "# LR coefficients\n",
    "model.stages[-1].coefficients"
   ]
  },
  {
   "cell_type": "code",
   "execution_count": 85,
   "metadata": {},
   "outputs": [
    {
     "data": {
      "text/plain": [
       "2.9388893694594134"
      ]
     },
     "execution_count": 85,
     "metadata": {},
     "output_type": "execute_result"
    }
   ],
   "source": [
    "# LR intercept\n",
    "model.stages[-1].intercept"
   ]
  },
  {
   "cell_type": "code",
   "execution_count": 70,
   "metadata": {},
   "outputs": [
    {
     "name": "stdout",
     "output_type": "stream",
     "text": [
      "+-----+-----+---------+-----+-----------------+------------------+\n",
      "|   TV|Radio|Newspaper|Sales|         features|        prediction|\n",
      "+-----+-----+---------+-----+-----------------+------------------+\n",
      "|230.1| 37.8|     69.2| 22.1|[230.1,37.8,69.2]| 20.52397440971517|\n",
      "| 44.5| 39.3|     45.1| 10.4| [44.5,39.3,45.1]|12.337854820894362|\n",
      "| 17.2| 45.9|     69.3|  9.3| [17.2,45.9,69.3]|12.307670779994238|\n",
      "|151.5| 41.3|     58.5| 18.5|[151.5,41.3,58.5]| 17.59782951168913|\n",
      "|180.8| 10.8|     58.4| 12.9|[180.8,10.8,58.4]|13.188671856831299|\n",
      "|  8.7| 48.9|     75.0|  7.2|  [8.7,48.9,75.0]|12.478347634035858|\n",
      "| 57.5| 32.8|     23.5| 11.8| [57.5,32.8,23.5]|11.729759951563684|\n",
      "|120.2| 19.6|     11.6| 13.2|[120.2,19.6,11.6]| 12.12295316550228|\n",
      "|  8.6|  2.1|      1.0|  4.8|    [8.6,2.1,1.0]| 3.727340862861585|\n",
      "|199.8|  2.6|     21.2| 10.6| [199.8,2.6,21.2]|12.550848722934685|\n",
      "| 66.1|  5.8|     24.2|  8.6|  [66.1,5.8,24.2]| 7.032299200558857|\n",
      "|214.7| 24.0|      4.0| 17.4| [214.7,24.0,4.0]| 17.28512918260026|\n",
      "| 23.8| 35.1|     65.9|  9.2| [23.8,35.1,65.9]|10.577120733627675|\n",
      "| 97.5|  7.6|      7.2|  9.7|   [97.5,7.6,7.2]| 8.826300480033199|\n",
      "|204.1| 32.9|     46.0| 19.0|[204.1,32.9,46.0]|18.434366383561077|\n",
      "|195.4| 47.7|     52.9| 22.4|[195.4,47.7,52.9]|20.819299516495455|\n",
      "| 67.8| 36.6|    114.0| 12.5|[67.8,36.6,114.0]| 12.82365674369938|\n",
      "|281.4| 39.6|     55.8| 24.4|[281.4,39.6,55.8]|23.224957158799008|\n",
      "| 69.2| 20.5|     18.3| 11.3| [69.2,20.5,18.3]| 9.951682059118799|\n",
      "|147.3| 23.9|     19.1| 14.6|[147.3,23.9,19.1]|14.166072932273261|\n",
      "+-----+-----+---------+-----+-----------------+------------------+\n",
      "only showing top 20 rows\n",
      "\n"
     ]
    }
   ],
   "source": [
    "# Predictions\n",
    "predictions=model.transform(df_ad)\n",
    "predictions.show()"
   ]
  },
  {
   "cell_type": "code",
   "execution_count": 86,
   "metadata": {},
   "outputs": [
    {
     "data": {
      "text/plain": [
       "0.897210638178952"
      ]
     },
     "execution_count": 86,
     "metadata": {},
     "output_type": "execute_result"
    }
   ],
   "source": [
    "# R2\n",
    "model.stages[-1].summary.r2"
   ]
  },
  {
   "cell_type": "markdown",
   "metadata": {},
   "source": [
    "### Logistic Regression"
   ]
  },
  {
   "cell_type": "code",
   "execution_count": 199,
   "metadata": {},
   "outputs": [
    {
     "name": "stdout",
     "output_type": "stream",
     "text": [
      "+---+---+---+--------------------+-----------+\n",
      "|  x|  y|  z|              source|      class|\n",
      "+---+---+---+--------------------+-----------+\n",
      "| 22| 49| 35|Accelerometer-201...|Brush_teeth|\n",
      "| 22| 49| 35|Accelerometer-201...|Brush_teeth|\n",
      "| 22| 52| 35|Accelerometer-201...|Brush_teeth|\n",
      "| 22| 52| 35|Accelerometer-201...|Brush_teeth|\n",
      "| 21| 52| 34|Accelerometer-201...|Brush_teeth|\n",
      "| 22| 51| 34|Accelerometer-201...|Brush_teeth|\n",
      "| 20| 50| 35|Accelerometer-201...|Brush_teeth|\n",
      "| 22| 52| 34|Accelerometer-201...|Brush_teeth|\n",
      "| 22| 50| 34|Accelerometer-201...|Brush_teeth|\n",
      "| 22| 51| 35|Accelerometer-201...|Brush_teeth|\n",
      "| 21| 51| 33|Accelerometer-201...|Brush_teeth|\n",
      "| 20| 50| 34|Accelerometer-201...|Brush_teeth|\n",
      "| 21| 49| 33|Accelerometer-201...|Brush_teeth|\n",
      "| 21| 49| 33|Accelerometer-201...|Brush_teeth|\n",
      "| 20| 51| 35|Accelerometer-201...|Brush_teeth|\n",
      "| 18| 49| 34|Accelerometer-201...|Brush_teeth|\n",
      "| 19| 48| 34|Accelerometer-201...|Brush_teeth|\n",
      "| 16| 53| 34|Accelerometer-201...|Brush_teeth|\n",
      "| 18| 52| 35|Accelerometer-201...|Brush_teeth|\n",
      "| 18| 51| 32|Accelerometer-201...|Brush_teeth|\n",
      "+---+---+---+--------------------+-----------+\n",
      "only showing top 20 rows\n",
      "\n"
     ]
    }
   ],
   "source": [
    "# Accelerometer Dataset\n",
    "df = spark.read.parquet('hmp.parquet')\n",
    "df.show()"
   ]
  },
  {
   "cell_type": "code",
   "execution_count": 200,
   "metadata": {},
   "outputs": [],
   "source": [
    "# Logistic Regression on Accelerometer Dataset\n",
    "logr=ml.classification.LogisticRegression(labelCol='classIndex')\n",
    "pipeline=ml.pipeline.Pipeline(stages=[indexer, vec_assembler, logr])\n",
    "model=pipeline.fit(df)"
   ]
  },
  {
   "cell_type": "code",
   "execution_count": 201,
   "metadata": {},
   "outputs": [
    {
     "data": {
      "text/html": [
       "<div>\n",
       "<style scoped>\n",
       "    .dataframe tbody tr th:only-of-type {\n",
       "        vertical-align: middle;\n",
       "    }\n",
       "\n",
       "    .dataframe tbody tr th {\n",
       "        vertical-align: top;\n",
       "    }\n",
       "\n",
       "    .dataframe thead th {\n",
       "        text-align: right;\n",
       "    }\n",
       "</style>\n",
       "<table border=\"1\" class=\"dataframe\">\n",
       "  <thead>\n",
       "    <tr style=\"text-align: right;\">\n",
       "      <th></th>\n",
       "      <th>x</th>\n",
       "      <th>y</th>\n",
       "      <th>z</th>\n",
       "      <th>source</th>\n",
       "      <th>class</th>\n",
       "      <th>classIndex</th>\n",
       "      <th>features</th>\n",
       "      <th>rawPrediction</th>\n",
       "      <th>probability</th>\n",
       "      <th>prediction</th>\n",
       "    </tr>\n",
       "  </thead>\n",
       "  <tbody>\n",
       "    <tr>\n",
       "      <th>0</th>\n",
       "      <td>22</td>\n",
       "      <td>49</td>\n",
       "      <td>35</td>\n",
       "      <td>Accelerometer-2011-04-11-13-28-18-brush_teeth-...</td>\n",
       "      <td>Brush_teeth</td>\n",
       "      <td>6.0</td>\n",
       "      <td>[22.0, 49.0, 35.0]</td>\n",
       "      <td>[1.694142296063741, 0.48981129401865875, -0.81...</td>\n",
       "      <td>[0.18172223142384303, 0.05449714517748826, 0.0...</td>\n",
       "      <td>6.0</td>\n",
       "    </tr>\n",
       "    <tr>\n",
       "      <th>1</th>\n",
       "      <td>22</td>\n",
       "      <td>49</td>\n",
       "      <td>35</td>\n",
       "      <td>Accelerometer-2011-04-11-13-28-18-brush_teeth-...</td>\n",
       "      <td>Brush_teeth</td>\n",
       "      <td>6.0</td>\n",
       "      <td>[22.0, 49.0, 35.0]</td>\n",
       "      <td>[1.694142296063741, 0.48981129401865875, -0.81...</td>\n",
       "      <td>[0.18172223142384303, 0.05449714517748826, 0.0...</td>\n",
       "      <td>6.0</td>\n",
       "    </tr>\n",
       "    <tr>\n",
       "      <th>2</th>\n",
       "      <td>22</td>\n",
       "      <td>52</td>\n",
       "      <td>35</td>\n",
       "      <td>Accelerometer-2011-04-11-13-28-18-brush_teeth-...</td>\n",
       "      <td>Brush_teeth</td>\n",
       "      <td>6.0</td>\n",
       "      <td>[22.0, 52.0, 35.0]</td>\n",
       "      <td>[1.6136877353802426, 0.23804621106274215, -0.8...</td>\n",
       "      <td>[0.13583200747809968, 0.03432168460870159, 0.0...</td>\n",
       "      <td>6.0</td>\n",
       "    </tr>\n",
       "    <tr>\n",
       "      <th>3</th>\n",
       "      <td>22</td>\n",
       "      <td>52</td>\n",
       "      <td>35</td>\n",
       "      <td>Accelerometer-2011-04-11-13-28-18-brush_teeth-...</td>\n",
       "      <td>Brush_teeth</td>\n",
       "      <td>6.0</td>\n",
       "      <td>[22.0, 52.0, 35.0]</td>\n",
       "      <td>[1.6136877353802426, 0.23804621106274215, -0.8...</td>\n",
       "      <td>[0.13583200747809968, 0.03432168460870159, 0.0...</td>\n",
       "      <td>6.0</td>\n",
       "    </tr>\n",
       "    <tr>\n",
       "      <th>4</th>\n",
       "      <td>21</td>\n",
       "      <td>52</td>\n",
       "      <td>34</td>\n",
       "      <td>Accelerometer-2011-04-11-13-28-18-brush_teeth-...</td>\n",
       "      <td>Brush_teeth</td>\n",
       "      <td>6.0</td>\n",
       "      <td>[21.0, 52.0, 34.0]</td>\n",
       "      <td>[1.8235840570079764, 0.2901075033198124, -1.00...</td>\n",
       "      <td>[0.1494040462578127, 0.03223902908738586, 0.00...</td>\n",
       "      <td>6.0</td>\n",
       "    </tr>\n",
       "    <tr>\n",
       "      <th>...</th>\n",
       "      <td>...</td>\n",
       "      <td>...</td>\n",
       "      <td>...</td>\n",
       "      <td>...</td>\n",
       "      <td>...</td>\n",
       "      <td>...</td>\n",
       "      <td>...</td>\n",
       "      <td>...</td>\n",
       "      <td>...</td>\n",
       "      <td>...</td>\n",
       "    </tr>\n",
       "    <tr>\n",
       "      <th>446524</th>\n",
       "      <td>41</td>\n",
       "      <td>35</td>\n",
       "      <td>51</td>\n",
       "      <td>Accelerometer-2012-06-11-11-39-29-walk-m1.txt</td>\n",
       "      <td>Walk</td>\n",
       "      <td>0.0</td>\n",
       "      <td>[41.0, 35.0, 51.0]</td>\n",
       "      <td>[-1.6404568327269402, 0.7277860143050034, 2.38...</td>\n",
       "      <td>[0.005422594863362025, 0.05790578568106644, 0....</td>\n",
       "      <td>2.0</td>\n",
       "    </tr>\n",
       "    <tr>\n",
       "      <th>446525</th>\n",
       "      <td>40</td>\n",
       "      <td>35</td>\n",
       "      <td>52</td>\n",
       "      <td>Accelerometer-2012-06-11-11-39-29-walk-m1.txt</td>\n",
       "      <td>Walk</td>\n",
       "      <td>0.0</td>\n",
       "      <td>[40.0, 35.0, 52.0]</td>\n",
       "      <td>[-1.6158780881747177, 0.7450236047555885, 2.35...</td>\n",
       "      <td>[0.005543681668093255, 0.058765828263808176, 0...</td>\n",
       "      <td>2.0</td>\n",
       "    </tr>\n",
       "    <tr>\n",
       "      <th>446526</th>\n",
       "      <td>39</td>\n",
       "      <td>37</td>\n",
       "      <td>51</td>\n",
       "      <td>Accelerometer-2012-06-11-11-39-29-walk-m1.txt</td>\n",
       "      <td>Walk</td>\n",
       "      <td>0.0</td>\n",
       "      <td>[39.0, 37.0, 51.0]</td>\n",
       "      <td>[-1.4596181403359836, 0.6292415083753804, 2.17...</td>\n",
       "      <td>[0.007725074908689002, 0.0623853934324205, 0.2...</td>\n",
       "      <td>2.0</td>\n",
       "    </tr>\n",
       "    <tr>\n",
       "      <th>446527</th>\n",
       "      <td>39</td>\n",
       "      <td>37</td>\n",
       "      <td>53</td>\n",
       "      <td>Accelerometer-2012-06-11-11-39-29-walk-m1.txt</td>\n",
       "      <td>Walk</td>\n",
       "      <td>0.0</td>\n",
       "      <td>[39.0, 37.0, 53.0]</td>\n",
       "      <td>[-1.6449357174114922, 0.5944178065688952, 2.32...</td>\n",
       "      <td>[0.00558038809234513, 0.05238455775458134, 0.2...</td>\n",
       "      <td>2.0</td>\n",
       "    </tr>\n",
       "    <tr>\n",
       "      <th>446528</th>\n",
       "      <td>39</td>\n",
       "      <td>35</td>\n",
       "      <td>51</td>\n",
       "      <td>Accelerometer-2012-06-11-11-39-29-walk-m1.txt</td>\n",
       "      <td>Walk</td>\n",
       "      <td>0.0</td>\n",
       "      <td>[39.0, 35.0, 51.0]</td>\n",
       "      <td>[-1.405981766546983, 0.797084897012657, 2.1802...</td>\n",
       "      <td>[0.007737037874918827, 0.07004133546506784, 0....</td>\n",
       "      <td>2.0</td>\n",
       "    </tr>\n",
       "  </tbody>\n",
       "</table>\n",
       "<p>446529 rows × 10 columns</p>\n",
       "</div>"
      ],
      "text/plain": [
       "         x   y   z                                             source  \\\n",
       "0       22  49  35  Accelerometer-2011-04-11-13-28-18-brush_teeth-...   \n",
       "1       22  49  35  Accelerometer-2011-04-11-13-28-18-brush_teeth-...   \n",
       "2       22  52  35  Accelerometer-2011-04-11-13-28-18-brush_teeth-...   \n",
       "3       22  52  35  Accelerometer-2011-04-11-13-28-18-brush_teeth-...   \n",
       "4       21  52  34  Accelerometer-2011-04-11-13-28-18-brush_teeth-...   \n",
       "...     ..  ..  ..                                                ...   \n",
       "446524  41  35  51      Accelerometer-2012-06-11-11-39-29-walk-m1.txt   \n",
       "446525  40  35  52      Accelerometer-2012-06-11-11-39-29-walk-m1.txt   \n",
       "446526  39  37  51      Accelerometer-2012-06-11-11-39-29-walk-m1.txt   \n",
       "446527  39  37  53      Accelerometer-2012-06-11-11-39-29-walk-m1.txt   \n",
       "446528  39  35  51      Accelerometer-2012-06-11-11-39-29-walk-m1.txt   \n",
       "\n",
       "              class  classIndex            features  \\\n",
       "0       Brush_teeth         6.0  [22.0, 49.0, 35.0]   \n",
       "1       Brush_teeth         6.0  [22.0, 49.0, 35.0]   \n",
       "2       Brush_teeth         6.0  [22.0, 52.0, 35.0]   \n",
       "3       Brush_teeth         6.0  [22.0, 52.0, 35.0]   \n",
       "4       Brush_teeth         6.0  [21.0, 52.0, 34.0]   \n",
       "...             ...         ...                 ...   \n",
       "446524         Walk         0.0  [41.0, 35.0, 51.0]   \n",
       "446525         Walk         0.0  [40.0, 35.0, 52.0]   \n",
       "446526         Walk         0.0  [39.0, 37.0, 51.0]   \n",
       "446527         Walk         0.0  [39.0, 37.0, 53.0]   \n",
       "446528         Walk         0.0  [39.0, 35.0, 51.0]   \n",
       "\n",
       "                                            rawPrediction  \\\n",
       "0       [1.694142296063741, 0.48981129401865875, -0.81...   \n",
       "1       [1.694142296063741, 0.48981129401865875, -0.81...   \n",
       "2       [1.6136877353802426, 0.23804621106274215, -0.8...   \n",
       "3       [1.6136877353802426, 0.23804621106274215, -0.8...   \n",
       "4       [1.8235840570079764, 0.2901075033198124, -1.00...   \n",
       "...                                                   ...   \n",
       "446524  [-1.6404568327269402, 0.7277860143050034, 2.38...   \n",
       "446525  [-1.6158780881747177, 0.7450236047555885, 2.35...   \n",
       "446526  [-1.4596181403359836, 0.6292415083753804, 2.17...   \n",
       "446527  [-1.6449357174114922, 0.5944178065688952, 2.32...   \n",
       "446528  [-1.405981766546983, 0.797084897012657, 2.1802...   \n",
       "\n",
       "                                              probability  prediction  \n",
       "0       [0.18172223142384303, 0.05449714517748826, 0.0...         6.0  \n",
       "1       [0.18172223142384303, 0.05449714517748826, 0.0...         6.0  \n",
       "2       [0.13583200747809968, 0.03432168460870159, 0.0...         6.0  \n",
       "3       [0.13583200747809968, 0.03432168460870159, 0.0...         6.0  \n",
       "4       [0.1494040462578127, 0.03223902908738586, 0.00...         6.0  \n",
       "...                                                   ...         ...  \n",
       "446524  [0.005422594863362025, 0.05790578568106644, 0....         2.0  \n",
       "446525  [0.005543681668093255, 0.058765828263808176, 0...         2.0  \n",
       "446526  [0.007725074908689002, 0.0623853934324205, 0.2...         2.0  \n",
       "446527  [0.00558038809234513, 0.05238455775458134, 0.2...         2.0  \n",
       "446528  [0.007737037874918827, 0.07004133546506784, 0....         2.0  \n",
       "\n",
       "[446529 rows x 10 columns]"
      ]
     },
     "execution_count": 201,
     "metadata": {},
     "output_type": "execute_result"
    }
   ],
   "source": [
    "prediction=model.transform(df)\n",
    "prediction.toPandas()"
   ]
  },
  {
   "cell_type": "code",
   "execution_count": 202,
   "metadata": {},
   "outputs": [
    {
     "data": {
      "text/plain": [
       "0.28317855513437706"
      ]
     },
     "execution_count": 202,
     "metadata": {},
     "output_type": "execute_result"
    }
   ],
   "source": [
    "# Evaluate\n",
    "evaluator=ml.evaluation.MulticlassClassificationEvaluator(predictionCol='prediction', \n",
    "                                                          labelCol='classIndex', \n",
    "                                                          metricName='f1')\n",
    "evaluator.evaluate(prediction)"
   ]
  },
  {
   "cell_type": "code",
   "execution_count": 203,
   "metadata": {},
   "outputs": [
    {
     "data": {
      "text/plain": [
       "0.2844002439404077"
      ]
     },
     "execution_count": 203,
     "metadata": {},
     "output_type": "execute_result"
    }
   ],
   "source": [
    "# With train test split\n",
    "df_train, df_test = df.randomSplit([0.8, 0.2])\n",
    "model2=pipeline.fit(df_train)\n",
    "prediction2=model2.transform(df_test)\n",
    "evaluator.evaluate(prediction2)"
   ]
  },
  {
   "cell_type": "code",
   "execution_count": null,
   "metadata": {},
   "outputs": [],
   "source": []
  }
 ],
 "metadata": {
  "kernelspec": {
   "display_name": "Python 3",
   "language": "python",
   "name": "python3"
  },
  "language_info": {
   "codemirror_mode": {
    "name": "ipython",
    "version": 3
   },
   "file_extension": ".py",
   "mimetype": "text/x-python",
   "name": "python",
   "nbconvert_exporter": "python",
   "pygments_lexer": "ipython3",
   "version": "3.7.6"
  }
 },
 "nbformat": 4,
 "nbformat_minor": 4
}
