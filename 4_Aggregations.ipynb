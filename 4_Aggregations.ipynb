{
 "cells": [
  {
   "cell_type": "markdown",
   "metadata": {},
   "source": [
    "# Aggregations"
   ]
  },
  {
   "cell_type": "code",
   "execution_count": 43,
   "metadata": {},
   "outputs": [],
   "source": [
    "import pyspark\n",
    "from pyspark.sql import SparkSession\n",
    "import pyspark.ml.stat as ml_stat\n",
    "import pyspark.sql.functions as func\n",
    "import pyspark.sql.types as types\n",
    "from pyspark.sql import Window\n",
    "import pandas as pd\n",
    "import matplotlib.pyplot as plt\n",
    "import seaborn as sns\n",
    "import numpy as np\n",
    "import pandas as pd"
   ]
  },
  {
   "cell_type": "code",
   "execution_count": 2,
   "metadata": {},
   "outputs": [],
   "source": [
    "spark = SparkSession.builder.appName('Spark Test App').getOrCreate() \n",
    "sc = spark.sparkContext"
   ]
  },
  {
   "cell_type": "code",
   "execution_count": 123,
   "metadata": {},
   "outputs": [
    {
     "name": "stdout",
     "output_type": "stream",
     "text": [
      "+---------+----+---------+------------+----------+------+------------+----+------+--------------------+\n",
      "|     make| mpg|cylinders|displacement|horsepower|weight|acceleration|year|origin|                name|\n",
      "+---------+----+---------+------------+----------+------+------------+----+------+--------------------+\n",
      "|chevrolet|18.0|        8|       307.0|       130|  3504|        12.0|  70|     1|chevrolet chevell...|\n",
      "|    buick|15.0|        8|       350.0|       165|  3693|        11.5|  70|     1|   buick skylark 320|\n",
      "| plymouth|18.0|        8|       318.0|       150|  3436|        11.0|  70|     1|  plymouth satellite|\n",
      "|      amc|16.0|        8|       304.0|       150|  3433|        12.0|  70|     1|       amc rebel sst|\n",
      "|     ford|17.0|        8|       302.0|       140|  3449|        10.5|  70|     1|         ford torino|\n",
      "+---------+----+---------+------------+----------+------+------------+----+------+--------------------+\n",
      "only showing top 5 rows\n",
      "\n"
     ]
    }
   ],
   "source": [
    "# Create Data Frame from a csv file with inferred schema\n",
    "df = spark.read.csv('Auto.csv', header=True, inferSchema=True)\n",
    "df = df.selectExpr(\"split(name, ' ')[0] as make\", \"*\")\n",
    "df.show(5)"
   ]
  },
  {
   "cell_type": "markdown",
   "metadata": {},
   "source": [
    "### Aggregation Functions"
   ]
  },
  {
   "cell_type": "code",
   "execution_count": 18,
   "metadata": {},
   "outputs": [
    {
     "name": "stdout",
     "output_type": "stream",
     "text": [
      "+-----------+\n",
      "|count(make)|\n",
      "+-----------+\n",
      "|        397|\n",
      "+-----------+\n",
      "\n"
     ]
    }
   ],
   "source": [
    "# count\n",
    "df.selectExpr(\"count(make)\").show()"
   ]
  },
  {
   "cell_type": "code",
   "execution_count": 17,
   "metadata": {},
   "outputs": [
    {
     "name": "stdout",
     "output_type": "stream",
     "text": [
      "+--------------------+\n",
      "|count(DISTINCT make)|\n",
      "+--------------------+\n",
      "|                  37|\n",
      "+--------------------+\n",
      "\n"
     ]
    }
   ],
   "source": [
    "# count distinct\n",
    "df.selectExpr(\"count(distinct make)\").show()"
   ]
  },
  {
   "cell_type": "code",
   "execution_count": 20,
   "metadata": {},
   "outputs": [
    {
     "name": "stdout",
     "output_type": "stream",
     "text": [
      "+---------------------------+\n",
      "|approx_count_distinct(make)|\n",
      "+---------------------------+\n",
      "|                         36|\n",
      "+---------------------------+\n",
      "\n"
     ]
    }
   ],
   "source": [
    "# count for large datasets\n",
    "df.selectExpr(\"approx_count_distinct(make)\").show()"
   ]
  },
  {
   "cell_type": "code",
   "execution_count": 22,
   "metadata": {},
   "outputs": [
    {
     "name": "stdout",
     "output_type": "stream",
     "text": [
      "+---------+-----+\n",
      "|    first| last|\n",
      "+---------+-----+\n",
      "|chevrolet|chevy|\n",
      "+---------+-----+\n",
      "\n"
     ]
    }
   ],
   "source": [
    "# first and last\n",
    "df.selectExpr(\"first(make) as first\", \"last(make) as last\").show()"
   ]
  },
  {
   "cell_type": "code",
   "execution_count": 24,
   "metadata": {},
   "outputs": [
    {
     "name": "stdout",
     "output_type": "stream",
     "text": [
      "+--------+--------+\n",
      "|min(mpg)|max(mpg)|\n",
      "+--------+--------+\n",
      "|     9.0|    46.6|\n",
      "+--------+--------+\n",
      "\n"
     ]
    }
   ],
   "source": [
    "# min and max\n",
    "df.selectExpr(\"min(mpg)\", \"max(mpg)\").show()"
   ]
  },
  {
   "cell_type": "code",
   "execution_count": 25,
   "metadata": {},
   "outputs": [
    {
     "name": "stdout",
     "output_type": "stream",
     "text": [
      "+-----------+------------------+\n",
      "|sum(weight)|       avg(weight)|\n",
      "+-----------+------------------+\n",
      "|    1179194|2970.2619647355164|\n",
      "+-----------+------------------+\n",
      "\n"
     ]
    }
   ],
   "source": [
    "# sum and average\n",
    "df.selectExpr(\"sum(weight)\", \"avg(weight)\").show()"
   ]
  },
  {
   "cell_type": "code",
   "execution_count": 28,
   "metadata": {},
   "outputs": [
    {
     "name": "stdout",
     "output_type": "stream",
     "text": [
      "+------------------+------------------+-----------------+-----------------+\n",
      "|      var_pop(mpg)|     var_samp(mpg)|  stddev_pop(mpg)| stddev_samp(mpg)|\n",
      "+------------------+------------------+-----------------+-----------------+\n",
      "|61.088942128939344|61.243207134315455|7.815941538224256|7.825803928946563|\n",
      "+------------------+------------------+-----------------+-----------------+\n",
      "\n"
     ]
    }
   ],
   "source": [
    "# statistical (population and sampling variance and st dev)\n",
    "df.selectExpr(\"var_pop(mpg)\", \"var_samp(mpg)\", \"stddev_pop(mpg)\", \"stddev_samp(mpg)\").show()"
   ]
  },
  {
   "cell_type": "code",
   "execution_count": 29,
   "metadata": {},
   "outputs": [
    {
     "name": "stdout",
     "output_type": "stream",
     "text": [
      "+------------------+-------------------+\n",
      "|     skewness(mpg)|      kurtosis(mpg)|\n",
      "+------------------+-------------------+\n",
      "|0.4542802097749803|-0.5259045302021703|\n",
      "+------------------+-------------------+\n",
      "\n"
     ]
    }
   ],
   "source": [
    "#stat (skewness, kurtosis)\n",
    "df.selectExpr(\"skewness(mpg)\", \"kurtosis(mpg)\").show()"
   ]
  },
  {
   "cell_type": "code",
   "execution_count": 30,
   "metadata": {},
   "outputs": [
    {
     "name": "stdout",
     "output_type": "stream",
     "text": [
      "+-------------------------------------+\n",
      "|corr(mpg, CAST(horsepower AS DOUBLE))|\n",
      "+-------------------------------------+\n",
      "|                  -0.7784267838977761|\n",
      "+-------------------------------------+\n",
      "\n"
     ]
    }
   ],
   "source": [
    "# Correlation\n",
    "df.selectExpr(\"corr(mpg, horsepower)\").show()"
   ]
  },
  {
   "cell_type": "markdown",
   "metadata": {},
   "source": [
    "### Grouping"
   ]
  },
  {
   "cell_type": "code",
   "execution_count": 36,
   "metadata": {},
   "outputs": [
    {
     "name": "stdout",
     "output_type": "stream",
     "text": [
      "+----------+----+--------+\n",
      "|      make|year|avg(mpg)|\n",
      "+----------+----+--------+\n",
      "|   pontiac|  78|    19.2|\n",
      "|oldsmobile|  79|   25.35|\n",
      "|    datsun|  72|    28.0|\n",
      "|   renault|  77|    36.0|\n",
      "|      audi|  73|    20.0|\n",
      "+----------+----+--------+\n",
      "only showing top 5 rows\n",
      "\n"
     ]
    }
   ],
   "source": [
    "# Group by\n",
    "df.groupby('make', 'year').avg('mpg').show(5)"
   ]
  },
  {
   "cell_type": "code",
   "execution_count": 42,
   "metadata": {},
   "outputs": [
    {
     "name": "stdout",
     "output_type": "stream",
     "text": [
      "+--------+------------------+------------------+\n",
      "|    make|          mean_mpg|        stddev_mpg|\n",
      "+--------+------------------+------------------+\n",
      "|   buick|19.182352941176468| 5.760993327339224|\n",
      "| pontiac|           20.0125| 6.285631763527565|\n",
      "|mercedes|              25.4|               NaN|\n",
      "|  toyota|28.372000000000003|5.6594699398441906|\n",
      "|    saab|              23.9|1.6041612554021285|\n",
      "+--------+------------------+------------------+\n",
      "only showing top 5 rows\n",
      "\n"
     ]
    }
   ],
   "source": [
    "# Using aggregate expressions\n",
    "df.groupby('make').agg(func.expr(\"avg(mpg) as mean_mpg\"), func.expr(\"stddev(mpg) as stddev_mpg\")).show(5)"
   ]
  },
  {
   "cell_type": "markdown",
   "metadata": {},
   "source": [
    "### Window Functions"
   ]
  },
  {
   "cell_type": "code",
   "execution_count": 75,
   "metadata": {},
   "outputs": [
    {
     "name": "stdout",
     "output_type": "stream",
     "text": [
      "+-----+----+------------------+\n",
      "| make|year|          mean_avg|\n",
      "+-----+----+------------------+\n",
      "|buick|  70|              14.5|\n",
      "|buick|  72|             13.75|\n",
      "|buick|  73|13.333333333333334|\n",
      "|buick|  74|             13.25|\n",
      "|buick|  75|              14.4|\n",
      "+-----+----+------------------+\n",
      "only showing top 5 rows\n",
      "\n"
     ]
    }
   ],
   "source": [
    "# Example: for every make compute average mpg to date\n",
    "window_spec = Window.partitionBy('make') \\\n",
    "    .orderBy('year') \\\n",
    "    .rowsBetween(Window.unboundedPreceding, Window.currentRow)\n",
    "\n",
    "df.groupby('make', 'year') \\\n",
    "    .agg(func.avg('mpg').alias('mean_mpg')) \\\n",
    "    .select('make', 'year', func.avg('mean_mpg').over(window_spec).alias('mean_avg')) \\\n",
    "    .show(5)"
   ]
  },
  {
   "cell_type": "code",
   "execution_count": 97,
   "metadata": {},
   "outputs": [],
   "source": [
    "# Ranking \n",
    "window_spec = Window.partitionBy('year') \\\n",
    "    .orderBy(func.desc('mpg')) \\\n",
    "    .rowsBetween(Window.unboundedPreceding, Window.currentRow)"
   ]
  },
  {
   "cell_type": "code",
   "execution_count": 100,
   "metadata": {},
   "outputs": [
    {
     "name": "stdout",
     "output_type": "stream",
     "text": [
      "+----+----------+------------------+----+\n",
      "|year|      make|               mpg|rank|\n",
      "+----+----------+------------------+----+\n",
      "|  78|volkswagen|              37.3|   1|\n",
      "|  78|     mazda|              32.8|   2|\n",
      "|  78|     honda|              32.8|   2|\n",
      "|  78|    datsun|30.166666666666668|   3|\n",
      "|  78|      ford|            24.875|   4|\n",
      "|  78|    toyota|              24.3|   5|\n",
      "|  78| chevrolet|23.233333333333334|   6|\n",
      "|  78|oldsmobile|             21.85|   7|\n",
      "|  78|  plymouth|             21.85|   7|\n",
      "|  78|     dodge|              21.6|   8|\n",
      "|  78|      saab|              21.6|   8|\n",
      "|  78|   mercury|              20.5|   9|\n",
      "|  78|      audi|              20.3|  10|\n",
      "|  78|   pontiac|              19.2|  11|\n",
      "|  78|     buick|             19.15|  12|\n",
      "|  78|       amc|             18.75|  13|\n",
      "|  78|     volvo|              17.0|  14|\n",
      "|  78|   peugeot|              16.2|  15|\n",
      "|  81|   renault|              34.5|   1|\n",
      "|  81|     honda|34.400000000000006|   2|\n",
      "+----+----------+------------------+----+\n",
      "only showing top 20 rows\n",
      "\n"
     ]
    }
   ],
   "source": [
    "df.groupby('make', 'year') \\\n",
    "    .agg(func.avg('mpg').alias('mpg')) \\\n",
    "    .select('year', 'make', 'mpg', func.dense_rank().over(window_spec).alias('rank')) \\\n",
    "    .show(20)"
   ]
  },
  {
   "cell_type": "markdown",
   "metadata": {},
   "source": [
    "### Rollup and Cube"
   ]
  },
  {
   "cell_type": "code",
   "execution_count": 128,
   "metadata": {},
   "outputs": [
    {
     "name": "stdout",
     "output_type": "stream",
     "text": [
      "+----------+----+---------+------------+----------+------+------------+----+------+--------------------+\n",
      "|      make| mpg|cylinders|displacement|horsepower|weight|acceleration|year|origin|                name|\n",
      "+----------+----+---------+------------+----------+------+------------+----+------+--------------------+\n",
      "|volkswagen|26.0|        4|        97.0|        46|  1835|        20.5|  70|     2|volkswagen 1131 d...|\n",
      "|      audi|24.0|        4|       107.0|        90|  2430|        14.5|  70|     2|         audi 100 ls|\n",
      "|       bmw|26.0|        4|       121.0|       113|  2234|        12.5|  70|     2|            bmw 2002|\n",
      "|volkswagen|27.0|        4|        97.0|        60|  1834|        19.0|  71|     2|volkswagen model 111|\n",
      "+----------+----+---------+------------+----------+------+------------+----+------+--------------------+\n",
      "\n"
     ]
    }
   ],
   "source": [
    "df2 = df.where(\"make in ('audi', 'volkswagen', 'mercedes', 'bmw')\") \\\n",
    "       .where('year<72') \n",
    "df2.show(5)"
   ]
  },
  {
   "cell_type": "code",
   "execution_count": 130,
   "metadata": {},
   "outputs": [
    {
     "name": "stdout",
     "output_type": "stream",
     "text": [
      "+----------+----+--------+\n",
      "|      make|year|avg(mpg)|\n",
      "+----------+----+--------+\n",
      "|volkswagen|  70|    26.0|\n",
      "|      null|null|   25.75|\n",
      "|volkswagen|  71|    27.0|\n",
      "|       bmw|null|    26.0|\n",
      "|      audi|null|    24.0|\n",
      "|      audi|  70|    24.0|\n",
      "|volkswagen|null|    26.5|\n",
      "|       bmw|  70|    26.0|\n",
      "+----------+----+--------+\n",
      "\n"
     ]
    }
   ],
   "source": [
    "# Rollup\n",
    "df2.rollup('make', 'year').avg('mpg').show(20)"
   ]
  },
  {
   "cell_type": "code",
   "execution_count": 134,
   "metadata": {},
   "outputs": [
    {
     "name": "stdout",
     "output_type": "stream",
     "text": [
      "+----------+----+------------------+\n",
      "|      make|year|          avg(mpg)|\n",
      "+----------+----+------------------+\n",
      "|      null|  70|25.333333333333332|\n",
      "|volkswagen|  70|              26.0|\n",
      "|      null|null|             25.75|\n",
      "|volkswagen|  71|              27.0|\n",
      "|       bmw|null|              26.0|\n",
      "|      null|  71|              27.0|\n",
      "|      audi|null|              24.0|\n",
      "|      audi|  70|              24.0|\n",
      "|volkswagen|null|              26.5|\n",
      "|       bmw|  70|              26.0|\n",
      "+----------+----+------------------+\n",
      "\n"
     ]
    }
   ],
   "source": [
    "# Cube\n",
    "df2.cube('make', 'year').avg('mpg').show(20)"
   ]
  },
  {
   "cell_type": "code",
   "execution_count": null,
   "metadata": {},
   "outputs": [],
   "source": []
  }
 ],
 "metadata": {
  "kernelspec": {
   "display_name": "Python 3",
   "language": "python",
   "name": "python3"
  },
  "language_info": {
   "codemirror_mode": {
    "name": "ipython",
    "version": 3
   },
   "file_extension": ".py",
   "mimetype": "text/x-python",
   "name": "python",
   "nbconvert_exporter": "python",
   "pygments_lexer": "ipython3",
   "version": "3.7.6"
  }
 },
 "nbformat": 4,
 "nbformat_minor": 4
}
